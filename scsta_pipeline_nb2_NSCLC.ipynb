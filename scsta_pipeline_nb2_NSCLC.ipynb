{
 "cells": [
  {
   "cell_type": "markdown",
   "id": "620f40b4-d0b8-4ea5-a36e-bc78da841aa5",
   "metadata": {},
   "source": [
    "# The Single-Cell Spatial Transcriptomics Analysis (ScSTA) Cookbook"
   ]
  },
  {
   "cell_type": "markdown",
   "id": "3c6828ff-c86e-4c6f-bdde-aad778420889",
   "metadata": {},
   "source": [
    "```\n",
    "Arun Das\n",
    "Postdoctoral Associate\n",
    "Hillman Cancer Center\n",
    "University of Pittsburgh Medical Center\n",
    "---\n",
    "ard212@pitt.edu\n",
    "https://www.linkedin.com/in/arun-das/\n",
    "```"
   ]
  },
  {
   "cell_type": "markdown",
   "id": "f8b4a587-2cd4-4750-847f-756dce3e0223",
   "metadata": {},
   "source": [
    "## NanoString CosMx - Non-Small Cell Lung Cancer Dataset"
   ]
  },
  {
   "cell_type": "markdown",
   "id": "b097c37f-4c31-4d75-8ee1-d5a1d6f87ac6",
   "metadata": {},
   "source": [
    "## Install packages"
   ]
  },
  {
   "cell_type": "raw",
   "id": "7a27e881-d8eb-4fdb-8d95-c33c3e1764c7",
   "metadata": {},
   "source": [
    "!pip install matplotlib pandas scikit-learn seaborn tqdm\n",
    "!pip install esda libpysal geopandas statsmodels splot\n",
    "!pip install scanpy squidpy \n",
    "!pip install louvain\n",
    "!pip install gseapy\n",
    "!pip install monkeybread"
   ]
  },
  {
   "cell_type": "markdown",
   "id": "809bd02e-b0d3-4411-89ff-976d3a45fb2d",
   "metadata": {},
   "source": [
    "## Import packages"
   ]
  },
  {
   "cell_type": "code",
   "execution_count": null,
   "id": "0ec1b547-9f96-4638-b1b0-4c70fe297cda",
   "metadata": {},
   "outputs": [],
   "source": [
    "%matplotlib inline\n",
    "import warnings\n",
    "# Suppress all warnings\n",
    "warnings.filterwarnings('ignore')\n",
    "\n",
    "import os\n",
    "import requests\n",
    "import matplotlib.pyplot as plt\n",
    "import seaborn as sns\n",
    "\n",
    "from pathlib import Path\n",
    "import scanpy as sc\n",
    "import numpy as np\n",
    "import squidpy as sq\n",
    "import pandas as pd\n",
    "\n",
    "from sklearn.neighbors import NearestNeighbors\n",
    "from datetime import datetime\n",
    "import anndata\n",
    "from sklearn.cluster import KMeans\n",
    "import monkeybread as mb \n",
    "import gseapy as gp\n",
    "from gseapy.plot import barplot\n",
    "\n",
    "import tqdm as notebook_tqdm\n",
    "\n",
    "pd.set_option(\"display.max_columns\", None)\n",
    "\n",
    "# Plotting options, change to your liking\n",
    "sc.settings.set_figure_params(dpi=80, frameon=False, facecolor=\"white\")\n",
    "sc.set_figure_params(dpi=80)\n",
    "sc.set_figure_params(figsize=(4, 4))\n",
    "sc.settings.verbosity = 0"
   ]
  },
  {
   "cell_type": "markdown",
   "id": "1d182d0d-8c1a-4427-9ede-b5aee22cf9c5",
   "metadata": {},
   "source": [
    "## Download CosMx SMI NSCLC FFPE Dataset for analysis"
   ]
  },
  {
   "cell_type": "markdown",
   "id": "35b534ad-5eda-4a12-9c58-c57e7098188b",
   "metadata": {},
   "source": [
    "### https://nanostring.com/products/cosmx-spatial-molecular-imager/nsclc-ffpe-dataset/"
   ]
  },
  {
   "cell_type": "raw",
   "id": "dca69f6c-84be-451f-aa0c-582aaf0d1668",
   "metadata": {},
   "source": [
    "# Create the directory 'tutorial_data' if it doesn't exist\n",
    "os.makedirs('tutorial_data', exist_ok=True)\n",
    "\n",
    "# Create the directory 'nanostring_data' inside 'tutorial_data' if it doesn't exist\n",
    "os.makedirs('tutorial_data/nanostring_data', exist_ok=True)\n",
    "\n",
    "# Download the tar file\n",
    "!curl -o tutorial_data/nanostring_data/Lung9_Rep1+SMI+Flat+data.tar.gz https://nanostring-public-share.s3.us-west-2.amazonaws.com/SMI-Compressed/Lung9_Rep1/Lung9_Rep1+SMI+Flat+data.tar.gz\n",
    "\n",
    "#Extract the tar file\n",
    "!tar -xzf tutorial_data/nanostring_data/Lung9_Rep1+SMI+Flat+data.tar.gz -C tutorial_data/nanostring_data/\n",
    "\n",
    "# URL of the file to download\n",
    "url = \"https://github.com/arundasan91/ScSTA_tutorial/raw/main/tutorial_data/nanostring_data/Lung9_Rep1_ctypes.csv\"\n",
    "\n",
    "# Send a GET request to the URL\n",
    "response = requests.get(url)\n",
    "\n",
    "# Check if the request was successful (status code 200)\n",
    "if response.status_code == 200:\n",
    "    # Extract the filename from the URL\n",
    "    filename = 'tutorial_data/nanostring_data/Lung9_Rep1/Lung9_Rep1-Flat_files_and_images/Lung9_Rep1_ctypes.csv'\n",
    "\n",
    "    # Write the content of the response to a file\n",
    "    with open(filename, 'wb') as f:\n",
    "        f.write(response.content)\n",
    "    print(\"File downloaded successfully as:\", filename)\n",
    "else:\n",
    "    print(\"Failed to download the file. Status code:\", response.status_code)"
   ]
  },
  {
   "cell_type": "code",
   "execution_count": null,
   "id": "4921ecdd-9bae-4d36-accf-407fc61ea6dd",
   "metadata": {},
   "outputs": [],
   "source": [
    "nanostring_dir = Path().resolve() / \"tutorial_data\" / \"nanostring_data\"\n",
    "sample_dir = nanostring_dir / \"Lung9_Rep1\" / \"Lung9_Rep1-Flat_files_and_images\"\n",
    "\n",
    "adata = sq.read.nanostring(\n",
    "    path=sample_dir,\n",
    "    counts_file=\"Lung9_Rep1_exprMat_file.csv\",\n",
    "    meta_file=\"Lung9_Rep1_metadata_file.csv\",\n",
    "    fov_file=\"Lung9_Rep1_fov_positions_file.csv\",\n",
    ")"
   ]
  },
  {
   "cell_type": "code",
   "execution_count": null,
   "id": "ae9cbc4b-3d12-492c-bbbc-c8fa7f86c4f7",
   "metadata": {},
   "outputs": [],
   "source": [
    "adata"
   ]
  },
  {
   "cell_type": "code",
   "execution_count": null,
   "id": "6bbdf708-b82f-4919-aaeb-ff6e6f12c498",
   "metadata": {},
   "outputs": [],
   "source": [
    "adata.obs"
   ]
  },
  {
   "cell_type": "code",
   "execution_count": null,
   "id": "c4526103-c91a-4d3d-ae34-d3388b5dfdd1",
   "metadata": {
    "tags": []
   },
   "outputs": [],
   "source": [
    "adata.obs['tissue'] = \"Lung9_Rep1\""
   ]
  },
  {
   "cell_type": "code",
   "execution_count": null,
   "id": "e2173298-60f5-4b90-973f-64448154d7d3",
   "metadata": {
    "tags": []
   },
   "outputs": [],
   "source": [
    "adata.obs.head()"
   ]
  },
  {
   "cell_type": "markdown",
   "id": "4111c648-6783-4bb3-944c-32afa4213c73",
   "metadata": {},
   "source": [
    "## Cell Typing"
   ]
  },
  {
   "cell_type": "markdown",
   "id": "df421b55-4bf1-40ee-ac75-7031f137706c",
   "metadata": {},
   "source": [
    "We have to carry out cell typing on this dataset. This can be achieved using several methods including:\n",
    "1. Marker-based approach\n",
    "2. Reference profile-based approach (https://github.com/Nanostring-Biostats/InSituType).\n",
    "3. Mapping scRNA-seq reference data to SRT data.\n",
    "\n",
    "Nanostring's CosMx sample datasets broadly use the InSituType algorithm. We'll load the availablde cell types for now. But please refer to the paper for more info."
   ]
  },
  {
   "cell_type": "markdown",
   "id": "c0fa33bf-79c1-42d3-8094-3468478a901f",
   "metadata": {},
   "source": [
    "## Load the cell type information for the NSCLC sample"
   ]
  },
  {
   "cell_type": "code",
   "execution_count": null,
   "id": "df475524-2aee-4147-87d8-28b42cb04d1c",
   "metadata": {},
   "outputs": [],
   "source": [
    "df = pd.read_csv(f'{sample_dir}/Lung9_Rep1_ctypes.csv', index_col=0)\n",
    "df.index = [f'{str(c)}_{str(fov)}' for c,fov in zip(df['cell_ID'], df['fov'])]\n",
    "df"
   ]
  },
  {
   "cell_type": "markdown",
   "id": "1951d9f0-5772-41bb-a1e0-b8ab29008824",
   "metadata": {},
   "source": [
    "## Combine the cell type information with the gene expressions"
   ]
  },
  {
   "cell_type": "code",
   "execution_count": null,
   "id": "2a315c9d-b298-47b5-97a0-3e6fc3ffb194",
   "metadata": {},
   "outputs": [],
   "source": [
    "adata_ctype = pd.merge(adata.obs, df['cell_type'], how='outer', right_index=True, left_index=True)\n",
    "adata_ctype = adata_ctype.drop_duplicates()\n",
    "adata_ctype['cell_type'].fillna('unknown', inplace=True)\n",
    "adata_ctype.replace({k:'tumor' for k in ['tumor '+ str(i) for i in [5, 6, 9, 12, 13]]}, inplace=True)\n",
    "adata_ctype = adata_ctype.loc[adata.obs.index]\n",
    "\n",
    "for column_name in adata_ctype.columns:\n",
    "    if column_name in adata.obs.columns:\n",
    "        new_dtype = adata.obs[column_name].dtype\n",
    "        adata_ctype[column_name] = adata.obs[column_name].astype(new_dtype)\n",
    "        \n",
    "adata.obs = adata_ctype"
   ]
  },
  {
   "cell_type": "code",
   "execution_count": null,
   "id": "99697c74-4487-4f3b-ae88-55cc2f36cda4",
   "metadata": {},
   "outputs": [],
   "source": [
    "adata.obs"
   ]
  },
  {
   "cell_type": "code",
   "execution_count": null,
   "id": "fc465cc6-e552-4461-b625-b406ea4f8d9e",
   "metadata": {
    "tags": []
   },
   "outputs": [],
   "source": [
    "adata"
   ]
  },
  {
   "cell_type": "code",
   "execution_count": null,
   "id": "7daad074-8bcb-46a5-bcaf-45baf8586dee",
   "metadata": {},
   "outputs": [],
   "source": [
    "adata.obs['cell_type'].unique()"
   ]
  },
  {
   "cell_type": "markdown",
   "id": "080d6ba8-f045-4222-8fc3-fdfc0a4628b1",
   "metadata": {},
   "source": [
    "## Quality Control"
   ]
  },
  {
   "cell_type": "code",
   "execution_count": null,
   "id": "6075da7a-4a08-4ae5-b53e-e827c883dc4e",
   "metadata": {},
   "outputs": [],
   "source": [
    "adata.var[\"NegPrb\"] = adata.var_names.str.startswith(\"NegPrb\")\n",
    "sc.pp.calculate_qc_metrics(adata, qc_vars=[\"NegPrb\"], inplace=True)"
   ]
  },
  {
   "cell_type": "code",
   "execution_count": null,
   "id": "804d1ff1-9fa4-43be-84f9-8a8f919f7dde",
   "metadata": {},
   "outputs": [],
   "source": [
    "adata = adata[:, ~adata.var_names.str.startswith(\"NegPrb\")]"
   ]
  },
  {
   "cell_type": "raw",
   "id": "ffc92056-27a5-40b8-8ce5-76dfbcbb49a0",
   "metadata": {},
   "source": [
    "fig, axs = plt.subplots(1, 4, figsize=(15, 4))\n",
    "sns.distplot(adata.obs[\"total_counts\"], kde=False, ax=axs[0])\n",
    "sns.distplot(adata.obs[\"total_counts\"][adata.obs[\"total_counts\"] < 1000], kde=False, bins=40, ax=axs[1])\n",
    "sns.distplot(adata.obs[\"n_genes_by_counts\"], kde=False, bins=60, ax=axs[2])\n",
    "sns.distplot(adata.obs[\"n_genes_by_counts\"][adata.obs[\"n_genes_by_counts\"] < 400], kde=False, bins=60, ax=axs[3])\n",
    "\n",
    "plt.tight_layout()"
   ]
  },
  {
   "cell_type": "raw",
   "id": "0aa4fe48-6045-4212-9b97-0077549d6b2d",
   "metadata": {},
   "source": [
    "sc.pp.filter_cells(adata, min_counts=100)\n",
    "sc.pp.filter_cells(adata, max_counts=1200)"
   ]
  },
  {
   "cell_type": "raw",
   "id": "55deec3a-4cf5-4db4-9602-868512a1eec8",
   "metadata": {},
   "source": [
    "sc.pl.scatter(adata, x='total_counts', y='n_genes_by_counts')"
   ]
  },
  {
   "cell_type": "code",
   "execution_count": null,
   "id": "fa328c90-ce27-4543-b559-03b0193d942c",
   "metadata": {},
   "outputs": [],
   "source": [
    "fig, axs = plt.subplots(1, 3, figsize=(15, 4))\n",
    "\n",
    "axs[0].set_title(\"Total transcripts per cell\")\n",
    "sns.histplot(\n",
    "    adata.obs[\"total_counts\"],\n",
    "    kde=False,\n",
    "    ax=axs[0],\n",
    ")\n",
    "\n",
    "axs[1].set_title(\"Unique transcripts per cell\")\n",
    "sns.histplot(\n",
    "    adata.obs[\"n_genes_by_counts\"],\n",
    "    kde=False,\n",
    "    ax=axs[1],\n",
    ")\n",
    "\n",
    "axs[2].set_title(\"Transcripts per FOV\")\n",
    "sns.histplot(\n",
    "    adata.obs.groupby(\"fov\")[\"total_counts\"].sum(),\n",
    "    kde=False,\n",
    "    ax=axs[2],\n",
    ")\n",
    "\n",
    "plt.tight_layout()"
   ]
  },
  {
   "cell_type": "markdown",
   "id": "4b208b11-60ea-425a-ad18-9892597ee96d",
   "metadata": {},
   "source": [
    "## Morphology Image Summary"
   ]
  },
  {
   "cell_type": "code",
   "execution_count": null,
   "id": "a5df98c9-58c5-4838-9f22-55440c9f4bc0",
   "metadata": {},
   "outputs": [],
   "source": [
    "fig, axs = plt.subplots(1, 4, figsize=(15, 4))\n",
    "\n",
    "axs[0].set_title(\"Membrane Stain\")\n",
    "sns.histplot(\n",
    "    adata.obs[\"Mean.MembraneStain\"],\n",
    "    kde=False,\n",
    "    ax=axs[0],\n",
    ")\n",
    "\n",
    "axs[1].set_title(\"PanCK\")\n",
    "sns.histplot(\n",
    "    adata.obs[\"Mean.PanCK\"],\n",
    "    kde=False,\n",
    "    ax=axs[1],\n",
    ")\n",
    "\n",
    "axs[2].set_title(\"CD45\")\n",
    "sns.histplot(\n",
    "    adata.obs[\"Mean.CD45\"],\n",
    "    kde=False,\n",
    "    ax=axs[2],\n",
    ")\n",
    "\n",
    "axs[3].set_title(\"CD3\")\n",
    "sns.histplot(\n",
    "    adata.obs[\"Mean.CD3\"],\n",
    "    kde=False,\n",
    "    ax=axs[3],\n",
    ")\n",
    "\n",
    "plt.tight_layout()"
   ]
  },
  {
   "cell_type": "markdown",
   "id": "5ac9889b-30ed-4628-9a49-f90e454379b1",
   "metadata": {},
   "source": [
    "## Filter the cells and genes"
   ]
  },
  {
   "cell_type": "code",
   "execution_count": null,
   "id": "e3b63917-407a-41be-a702-c21ea32e4c5d",
   "metadata": {},
   "outputs": [],
   "source": [
    "sc.pp.filter_cells(adata, min_counts=100)\n",
    "sc.pp.filter_genes(adata, min_cells=100)"
   ]
  },
  {
   "cell_type": "code",
   "execution_count": null,
   "id": "7fae8805-6927-4bf8-8b9e-15131594cdff",
   "metadata": {},
   "outputs": [],
   "source": [
    "adata.obs"
   ]
  },
  {
   "cell_type": "code",
   "execution_count": null,
   "id": "a9da0687-8449-435f-95e4-c8c5902a7747",
   "metadata": {},
   "outputs": [],
   "source": [
    "adata"
   ]
  },
  {
   "cell_type": "code",
   "execution_count": null,
   "id": "2e62c57e-3635-4c4e-bd9e-5d5c6e8d02c1",
   "metadata": {
    "tags": []
   },
   "outputs": [],
   "source": [
    "selected_fovs = [f\"{i}\" for i in [17, 18, 19, 13, 14, 15]]"
   ]
  },
  {
   "cell_type": "markdown",
   "id": "22cea29a-08c3-44e7-8a8d-59c614a398df",
   "metadata": {
    "tags": []
   },
   "source": [
    "## Spatial plot of cell types (with cell segmentations)"
   ]
  },
  {
   "cell_type": "code",
   "execution_count": null,
   "id": "a1404168-4492-43e5-b097-c2a79640ccea",
   "metadata": {
    "tags": []
   },
   "outputs": [],
   "source": [
    "plot_focus = \"cell_type\"\n",
    "\n",
    "axs_scatter = sq.pl.spatial_segment(\n",
    "    adata,\n",
    "    color=plot_focus,\n",
    "    library_key=\"fov\",\n",
    "    library_id = selected_fovs,\n",
    "    seg_cell_id=\"cell_ID\", \n",
    "    seg_outline = True,\n",
    "    # palette='tab20',\n",
    "    img=False,\n",
    "    colorbar=False,\n",
    "    hspace=0, wspace=0,\n",
    "    ncols=3,\n",
    "    legend_loc=None,\n",
    "    outline=False,\n",
    "    axis_label = None,\n",
    "    figsize=(7,4.5),\n",
    "    # library_first=True,\n",
    "    frameon=False,\n",
    "    title=None,\n",
    "    return_ax = True\n",
    ")\n",
    "\n",
    "# Get the current Matplotlib axes object\n",
    "for ax in axs_scatter:    \n",
    "    # Remove the title from the Matplotlib axes\n",
    "    ax.set_title(\"\")\n",
    "\n",
    "# Adjust the spacing between subplots\n",
    "plt.subplots_adjust(hspace=0.0001, wspace=0.0001)\n",
    "\n",
    "# Optionally, tighten the layout\n",
    "# plt.tight_layout()\n",
    "\n",
    "# plt.savefig(os.path.join(sample_dir, 'generated_figures', f'whole_tissue_{plot_focus}.png'), dpi=200)\n",
    "# Show or save the plot\n",
    "plt.show()"
   ]
  },
  {
   "cell_type": "code",
   "execution_count": null,
   "id": "6ce08070-d496-4e80-9105-90ba7809e616",
   "metadata": {
    "tags": []
   },
   "outputs": [],
   "source": [
    "adata"
   ]
  },
  {
   "cell_type": "markdown",
   "id": "4a5f27af-f31d-4c50-b30e-f0d23d83d5d7",
   "metadata": {},
   "source": [
    "## Subset the AnnData object"
   ]
  },
  {
   "cell_type": "code",
   "execution_count": null,
   "id": "dba9852f-5f7c-492a-95b2-f69a46fbb57c",
   "metadata": {
    "tags": []
   },
   "outputs": [],
   "source": [
    "adata = adata[adata.obs['fov'].isin(selected_fovs)]"
   ]
  },
  {
   "cell_type": "markdown",
   "id": "ce4be07e-d7ab-41f9-ab5e-f0d87748ce9a",
   "metadata": {},
   "source": [
    "## Spatial plot of cell types (2D scatter plot)"
   ]
  },
  {
   "cell_type": "code",
   "execution_count": null,
   "id": "f530f8e8-2208-4d41-b1b0-925b1f47934c",
   "metadata": {
    "tags": []
   },
   "outputs": [],
   "source": [
    "fig, ax = plt.subplots(1, 1, figsize=(14, 5))\n",
    "\n",
    "# Create the scatter plot without grid lines\n",
    "ax = sc.pl.scatter(\n",
    "    adata,\n",
    "    x='CenterX_global_px',\n",
    "    y='CenterY_global_px',\n",
    "    color='cell_type',\n",
    "    show=False, \n",
    "    size=15,\n",
    "    frameon=False, \n",
    "    ax=ax\n",
    "    # legend_loc='none'\n",
    ")\n",
    "\n",
    "# Turn off x and y axes\n",
    "ax.set_xticks([])\n",
    "ax.set_yticks([])\n",
    "\n",
    "plt.tight_layout()\n",
    "\n",
    "os.makedirs(os.path.join(sample_dir, 'generated_figures'), exist_ok=True)\n",
    "plt.savefig(os.path.join(sample_dir, 'generated_figures', f'scatter_plot_celltypes.png'), dpi=200)"
   ]
  },
  {
   "cell_type": "code",
   "execution_count": null,
   "id": "d0f15fac-fa2f-42a7-92f2-a9446e0699ad",
   "metadata": {},
   "outputs": [],
   "source": [
    "plot_focus = \"cell_type\"\n",
    "\n",
    "axs_scatter = sq.pl.spatial_segment(\n",
    "    adata,\n",
    "    color=plot_focus,\n",
    "    library_key=\"fov\",\n",
    "    library_id = selected_fovs,\n",
    "    seg_cell_id=\"cell_ID\", \n",
    "    seg_outline = True,\n",
    "    # palette='tab20',\n",
    "    img=False,\n",
    "    colorbar=False,\n",
    "    hspace=0, wspace=0,\n",
    "    ncols=3,\n",
    "    legend_loc=None,\n",
    "    outline=False,\n",
    "    axis_label = None,\n",
    "    figsize=(7,4.5),\n",
    "    # library_first=True,\n",
    "    frameon=False,\n",
    "    title=None,\n",
    "    return_ax = True\n",
    ")\n",
    "\n",
    "# Get the current Matplotlib axes object\n",
    "for ax in axs_scatter:    \n",
    "    # Remove the title from the Matplotlib axes\n",
    "    ax.set_title(\"\")\n",
    "\n",
    "# Adjust the spacing between subplots\n",
    "plt.subplots_adjust(hspace=0.0001, wspace=0.0001)\n",
    "\n",
    "# Optionally, tighten the layout\n",
    "# plt.tight_layout()\n",
    "\n",
    "# plt.savefig(os.path.join(sample_dir, 'generated_figures', f'whole_tissue_{plot_focus}.png'), dpi=200)\n",
    "# Show or save the plot\n",
    "plt.show()"
   ]
  },
  {
   "cell_type": "markdown",
   "id": "7fe68d57-7f7b-4e29-bb6f-9fc35d401c92",
   "metadata": {},
   "source": [
    "## Carry out Preprocessing"
   ]
  },
  {
   "cell_type": "code",
   "execution_count": null,
   "id": "98ec4b43-3ad9-4e2a-8e1d-79f2b6605118",
   "metadata": {},
   "outputs": [],
   "source": [
    "adata.layers[\"counts\"] = adata.X.copy()"
   ]
  },
  {
   "cell_type": "markdown",
   "id": "e1f48ee7-5caa-4035-93b5-0422f0ad6e30",
   "metadata": {},
   "source": [
    "### Normalize the data based on the total reads"
   ]
  },
  {
   "cell_type": "code",
   "execution_count": null,
   "id": "70647ca8-0dc9-41a4-b5d6-db68d098285c",
   "metadata": {},
   "outputs": [],
   "source": [
    "sc.pp.normalize_total(adata)"
   ]
  },
  {
   "cell_type": "markdown",
   "id": "65bab86a-95fb-4aca-bfa0-5bcf80a14aed",
   "metadata": {},
   "source": [
    "### Log normalize the dataset"
   ]
  },
  {
   "cell_type": "code",
   "execution_count": null,
   "id": "df90d22a-d453-47e6-b406-7bba42568838",
   "metadata": {},
   "outputs": [],
   "source": [
    "sc.pp.log1p(adata)"
   ]
  },
  {
   "cell_type": "markdown",
   "id": "4212a3ac-6755-4d1f-985c-d59d92ccc120",
   "metadata": {},
   "source": [
    "### Find the highly variable genes"
   ]
  },
  {
   "cell_type": "code",
   "execution_count": null,
   "id": "7c9c0a50-148e-4251-9f7c-9e4ebb30a6c7",
   "metadata": {},
   "outputs": [],
   "source": [
    "sc.pp.highly_variable_genes(adata)"
   ]
  },
  {
   "cell_type": "code",
   "execution_count": null,
   "id": "6764b64f-1ff5-497c-88fc-3277dc5063d4",
   "metadata": {},
   "outputs": [],
   "source": [
    "sc.pl.highly_variable_genes(adata)"
   ]
  },
  {
   "cell_type": "markdown",
   "id": "db899fcd-d01d-4ea0-b5c2-7b7b2012e155",
   "metadata": {},
   "source": [
    "### Carry out PCA to reduce the dimensions of the dataset"
   ]
  },
  {
   "cell_type": "code",
   "execution_count": null,
   "id": "3002bdf4-2ee1-4311-9e23-12b9547aa438",
   "metadata": {},
   "outputs": [],
   "source": [
    "sc.pp.pca(adata, svd_solver='arpack')"
   ]
  },
  {
   "cell_type": "code",
   "execution_count": null,
   "id": "54bd8fa2-d258-4a1a-867f-482d21d1ee4d",
   "metadata": {},
   "outputs": [],
   "source": [
    "sc.pl.pca(adata, color='NDRG1')"
   ]
  },
  {
   "cell_type": "code",
   "execution_count": null,
   "id": "7e2cb0fb-d79b-4330-9251-e221dd795001",
   "metadata": {},
   "outputs": [],
   "source": [
    "sc.pl.pca(adata, color='COL1A1')"
   ]
  },
  {
   "cell_type": "markdown",
   "id": "96e08fdc-2fd5-4d4b-baec-759b4b218605",
   "metadata": {},
   "source": [
    "### Compute the neighborhood graph"
   ]
  },
  {
   "cell_type": "code",
   "execution_count": null,
   "id": "e8c403bc-9248-4e66-b085-31080100f1d2",
   "metadata": {},
   "outputs": [],
   "source": [
    "%%time\n",
    "sc.pp.neighbors(adata, n_neighbors=100)"
   ]
  },
  {
   "cell_type": "code",
   "execution_count": null,
   "id": "de070786-a265-4e27-b6db-aa9199fc033c",
   "metadata": {},
   "outputs": [],
   "source": [
    "adata"
   ]
  },
  {
   "cell_type": "markdown",
   "id": "83a4ebe7-6a51-49be-99d8-80f085685be7",
   "metadata": {},
   "source": [
    "### Compute the UMAP"
   ]
  },
  {
   "cell_type": "code",
   "execution_count": null,
   "id": "4d157554-1fa3-4cf9-99d6-2028906f7a26",
   "metadata": {},
   "outputs": [],
   "source": [
    "%%time\n",
    "sc.tl.umap(adata)"
   ]
  },
  {
   "cell_type": "markdown",
   "id": "be55f195-3b48-4dc2-a42e-f47522ce8300",
   "metadata": {},
   "source": [
    "### Cluster the UMAP"
   ]
  },
  {
   "cell_type": "markdown",
   "id": "75dd4e7d-6f54-480e-b1a0-70ed3539eacc",
   "metadata": {},
   "source": [
    "#### We can use any clustering algorithms here. Two of the most popular are Leiden and Louvain."
   ]
  },
  {
   "cell_type": "code",
   "execution_count": null,
   "id": "f4fedc80-e5f4-4c91-b3d3-bb636e74808d",
   "metadata": {},
   "outputs": [],
   "source": [
    "%%time\n",
    "sc.tl.louvain(adata)"
   ]
  },
  {
   "cell_type": "code",
   "execution_count": null,
   "id": "3c9b0aff-04b2-46f3-ad1d-8f8da8d1ceff",
   "metadata": {},
   "outputs": [],
   "source": [
    "%%time\n",
    "sc.tl.leiden(adata)"
   ]
  },
  {
   "cell_type": "code",
   "execution_count": null,
   "id": "60f218ea-34d5-45e8-8852-a593c7db895d",
   "metadata": {},
   "outputs": [],
   "source": [
    "sc.pl.umap(\n",
    "    adata,\n",
    "    color=[\n",
    "        \"total_counts\",\n",
    "        \"n_genes_by_counts\",\n",
    "        \"leiden\",\n",
    "        \"louvain\",\n",
    "    ],\n",
    "    wspace=0.4,\n",
    ")"
   ]
  },
  {
   "cell_type": "markdown",
   "id": "33b3497b-4736-4d23-a05a-e8b03d7a36e2",
   "metadata": {},
   "source": [
    "## Plot the UMAP and paint each cell by the cell-type"
   ]
  },
  {
   "cell_type": "code",
   "execution_count": null,
   "id": "1d0b909a-fc08-44c9-81aa-901f92c2c03b",
   "metadata": {},
   "outputs": [],
   "source": [
    "fig, ax = plt.subplots(1, 1, figsize=(5, 5))\n",
    "dotsize = 10\n",
    "\n",
    "sc.pl.umap(\n",
    "    adata,\n",
    "    color=[\n",
    "        'cell_type'\n",
    "    ], size=dotsize,\n",
    "    wspace=0.4, ax=ax, palette='tab20'\n",
    ")\n"
   ]
  },
  {
   "cell_type": "markdown",
   "id": "4b07924b-9b02-4ca2-9371-90bc8ba00495",
   "metadata": {},
   "source": [
    "## Plot T-cells in the UMAP"
   ]
  },
  {
   "cell_type": "code",
   "execution_count": null,
   "id": "f9affe10-b39e-4bc8-9fec-5fcf658f2990",
   "metadata": {
    "tags": []
   },
   "outputs": [],
   "source": [
    "fig, ax = plt.subplots(1, 1, figsize=(5, 5))\n",
    "dotsize = 10\n",
    "ax = sc.pl.umap(adata, color=['cell_type'], groups=[\"T CD4 memory\", \"T CD4 naive\", \"T CD8 memory\", \"T CD8 naive\"], show=False, size=dotsize, ax=ax)\n",
    "\n",
    "# We can change the 'NA' in the legend that represents all cells outside of the\n",
    "# specified groups\n",
    "legend_texts=ax.get_legend().get_texts()\n",
    "# Find legend object whose text is \"NA\" and change it\n",
    "for legend_text in legend_texts:\n",
    "    if legend_text.get_text()==\"NA\":\n",
    "        legend_text.set_text('other cell types')"
   ]
  },
  {
   "cell_type": "markdown",
   "id": "6b61463b-2c52-40f5-bf32-50c8354da2bf",
   "metadata": {},
   "source": [
    "## Plot gene expressions of tumor cells"
   ]
  },
  {
   "cell_type": "code",
   "execution_count": null,
   "id": "38ce9446-290d-4d53-a77e-950e47605d30",
   "metadata": {
    "tags": []
   },
   "outputs": [],
   "source": [
    "fig, ax = plt.subplots(1, 1, figsize=(5, 5))\n",
    "dot_size=10\n",
    "# Plot all cells as background\n",
    "ax=sc.pl.umap(adata, show=False,s=dot_size, ax=ax)\n",
    "\n",
    "# Plot ontop expression of a single cell group by subsetting adata\n",
    "sc.pl.umap(adata[adata.obs.cell_type=='tumor',:],color='NDRG1', ax=ax, s=dot_size)"
   ]
  },
  {
   "cell_type": "markdown",
   "id": "d767b5a5-f5dc-485f-84ef-bde4921ce15a",
   "metadata": {},
   "source": [
    "## Plot the leiden clusters of two FOVs"
   ]
  },
  {
   "cell_type": "code",
   "execution_count": null,
   "id": "f4ae0cc5-f45c-4741-9df5-cd6c7a93b22b",
   "metadata": {
    "tags": []
   },
   "outputs": [],
   "source": [
    "%%time\n",
    "sq.pl.spatial_segment(\n",
    "    adata,\n",
    "    color='leiden',\n",
    "    library_key=\"fov\",\n",
    "    library_id = selected_fovs,\n",
    "    seg_cell_id=\"cell_ID\", \n",
    "    seg_outline = True,\n",
    "    # palette='tab20',\n",
    "    img=False,\n",
    "    colorbar=False,\n",
    "    hspace=0, wspace=0,\n",
    "    ncols=3,\n",
    "    legend_loc=None,\n",
    "    outline=False,\n",
    "    axis_label = None,\n",
    "    figsize=(7,4.5),\n",
    "    # library_first=True,\n",
    "    frameon=False,\n",
    "    title='',\n",
    ")"
   ]
  },
  {
   "cell_type": "code",
   "execution_count": null,
   "id": "d5a055d4-c212-4bdd-acc0-38bc663f44a2",
   "metadata": {
    "tags": []
   },
   "outputs": [],
   "source": [
    "%%time\n",
    "sq.pl.spatial_segment(\n",
    "    adata,\n",
    "    color='louvain',\n",
    "    library_key=\"fov\",\n",
    "    library_id = selected_fovs,\n",
    "    seg_cell_id=\"cell_ID\", \n",
    "    seg_outline = True,\n",
    "    # palette='tab20',\n",
    "    img=False,\n",
    "    colorbar=False,\n",
    "    hspace=0.0001, wspace=0.0001,\n",
    "    ncols=3,\n",
    "    legend_loc=None,\n",
    "    outline=False,\n",
    "    axis_label = None,\n",
    "    figsize=(7,4.5),\n",
    "    # library_first=True,\n",
    "    frameon=False,\n",
    "    title='',\n",
    ")"
   ]
  },
  {
   "cell_type": "code",
   "execution_count": null,
   "id": "40512863-8c85-4bc2-bf24-7e2047c9c53d",
   "metadata": {},
   "outputs": [],
   "source": [
    "fig, ax = plt.subplots(1, 3, figsize=(15, 7))\n",
    "\n",
    "for _ax in ax:\n",
    "    _ax.set_facecolor('white')\n",
    "\n",
    "selected_fov = 19\n",
    "    # [17, 18, 19, 13, 14, 15]\n",
    "    \n",
    "sq.pl.spatial_segment(\n",
    "    adata,\n",
    "    shape=\"hex\",\n",
    "    color=\"leiden\",\n",
    "    library_key=\"fov\",\n",
    "    library_id=f\"{selected_fov}\",\n",
    "    seg_cell_id=\"cell_ID\",\n",
    "    img=False,\n",
    "    size=60,\n",
    "    ax=ax[0],\n",
    ")\n",
    "\n",
    "sq.pl.spatial_segment(\n",
    "    adata,\n",
    "    shape=\"hex\",\n",
    "    color=\"louvain\",\n",
    "    library_key=\"fov\",\n",
    "    library_id=f\"{selected_fov}\",\n",
    "    seg_cell_id=\"cell_ID\",\n",
    "    img=False,\n",
    "    size=60,\n",
    "    ax=ax[1],\n",
    ")\n",
    "\n",
    "sq.pl.spatial_segment(\n",
    "    adata,\n",
    "    shape=\"hex\",\n",
    "    color=\"cell_type\",\n",
    "    library_key=\"fov\",\n",
    "    library_id=f\"{selected_fov}\",\n",
    "    seg_cell_id=\"cell_ID\",\n",
    "    img=False,\n",
    "    size=60,\n",
    "    ax=ax[2],\n",
    ")\n",
    "\n",
    "plt.tight_layout()"
   ]
  },
  {
   "cell_type": "markdown",
   "id": "ec409d51-d94e-402c-a6a7-bf904f67d371",
   "metadata": {},
   "source": [
    "## Plot the spatial map of the PanCK staining intensity"
   ]
  },
  {
   "cell_type": "code",
   "execution_count": null,
   "id": "eea4a3cf-2d38-4e2d-a791-f4715ce2929e",
   "metadata": {},
   "outputs": [],
   "source": [
    "%%time\n",
    "sq.pl.spatial_segment(\n",
    "    adata,\n",
    "    color='Max.PanCK',\n",
    "    library_key=\"fov\",\n",
    "    library_id = selected_fovs,\n",
    "    seg_cell_id=\"cell_ID\", \n",
    "    seg_outline = True,\n",
    "    img=False,\n",
    "    colorbar=False,\n",
    "    hspace=0, wspace=0,\n",
    "    ncols=3,\n",
    "    legend_loc=None,\n",
    "    outline=False,\n",
    "    axis_label = None,\n",
    "    figsize=(7,4.5),\n",
    "    frameon=False,\n",
    "    title='',\n",
    ")"
   ]
  },
  {
   "cell_type": "markdown",
   "id": "af42d1df-8b79-4019-9e68-a6ab845ba277",
   "metadata": {},
   "source": [
    "## Spatial Connectivity Analysis"
   ]
  },
  {
   "cell_type": "code",
   "execution_count": null,
   "id": "02e3d372-7e42-4cf1-a523-9b91fe860c96",
   "metadata": {
    "tags": []
   },
   "outputs": [],
   "source": [
    "adata"
   ]
  },
  {
   "cell_type": "code",
   "execution_count": null,
   "id": "ca0a2188-f9b3-4c74-a2d8-975d0cc1dbeb",
   "metadata": {},
   "outputs": [],
   "source": [
    "%%time\n",
    "fig, ax = plt.subplots(1, 2, figsize=(15, 15))\n",
    "sq.gr.spatial_neighbors(\n",
    "    adata,\n",
    "    n_neighs=15,\n",
    "    coord_type=\"generic\",\n",
    ")\n",
    "_, idx = adata.obsp[\"spatial_connectivities\"][1111, :].nonzero()\n",
    "idx = np.append(idx, 1111)\n",
    "sq.pl.spatial_scatter(\n",
    "    adata[idx, :],\n",
    "    library_id=\"16\",\n",
    "    color=\"cell_type\",\n",
    "    connectivity_key=\"spatial_connectivities\",\n",
    "    size=3,\n",
    "    edges_width=1,\n",
    "    edges_color=\"black\",\n",
    "    img=False,\n",
    "    title=\"K-nearest neighbors\",\n",
    "    ax=ax[0],\n",
    ")\n",
    "\n",
    "sq.gr.spatial_neighbors(\n",
    "    adata,\n",
    "    n_neighs=15,\n",
    "    coord_type=\"generic\",\n",
    "    delaunay=True,\n",
    ")\n",
    "_, idx = adata.obsp[\"spatial_connectivities\"][1111, :].nonzero()\n",
    "idx = np.append(idx, 1111)\n",
    "sq.pl.spatial_scatter(\n",
    "    adata[idx, :],\n",
    "    library_id=\"16\",\n",
    "    color=\"cell_type\",\n",
    "    connectivity_key=\"spatial_connectivities\",\n",
    "    size=3,\n",
    "    edges_width=1,\n",
    "    edges_color=\"black\",\n",
    "    img=False,\n",
    "    title=\"Delaunay triangulation\",\n",
    "    ax=ax[1],\n",
    ")\n",
    "\n",
    "plt.tight_layout()"
   ]
  },
  {
   "cell_type": "raw",
   "id": "cb4bdf8b-1cf3-4905-a551-f376719a9b27",
   "metadata": {},
   "source": [
    "sq.gr.spatial_neighbors(\n",
    "    adata, coord_type=\"generic\", delaunay=True\n",
    ")"
   ]
  },
  {
   "cell_type": "code",
   "execution_count": null,
   "id": "425e6db5-79a8-4e72-9953-313a29100e4a",
   "metadata": {},
   "outputs": [],
   "source": [
    "%%time\n",
    "sq.gr.centrality_scores(adata, cluster_key=\"cell_type\")"
   ]
  },
  {
   "cell_type": "markdown",
   "id": "51f19142-13ed-4515-9ee6-6fb808daa30b",
   "metadata": {},
   "source": [
    "- closeness centrality - measure of how close the group is to other nodes.\n",
    "- clustering coefficient - measure of the degree to which nodes cluster together.\n",
    "- degree centrality - fraction of non-group members connected to group members."
   ]
  },
  {
   "cell_type": "code",
   "execution_count": null,
   "id": "ba3bf64d-072d-486b-9561-545c6d35ca04",
   "metadata": {},
   "outputs": [],
   "source": [
    "%%time\n",
    "sq.pl.centrality_scores(adata, cluster_key=\"cell_type\", figsize=(15, 6))"
   ]
  },
  {
   "cell_type": "markdown",
   "id": "76f1236c-da40-4d88-b1e3-7d20c1ab2b57",
   "metadata": {},
   "source": [
    "## Spatial Co-Occurance"
   ]
  },
  {
   "cell_type": "code",
   "execution_count": null,
   "id": "a4d4bc17-a7fc-41be-afb7-2b28323f5a6b",
   "metadata": {},
   "outputs": [],
   "source": [
    "adataset = adata[adata.obs.fov.isin([\"17\", \"18\"])].copy()"
   ]
  },
  {
   "cell_type": "code",
   "execution_count": null,
   "id": "cf3bd0fc-98e0-46c4-a25e-77bbc867c3a1",
   "metadata": {
    "tags": []
   },
   "outputs": [],
   "source": [
    "fig, ax = plt.subplots(1, 1, figsize=(14, 5))\n",
    "\n",
    "# Create the scatter plot without grid lines\n",
    "ax = sc.pl.scatter(\n",
    "    adataset,\n",
    "    x='CenterX_global_px',\n",
    "    y='CenterY_global_px',\n",
    "    color='cell_type',\n",
    "    show=False, \n",
    "    size=15,\n",
    "    frameon=False, \n",
    "    ax=ax\n",
    "    # legend_loc='none'\n",
    ")\n",
    "\n",
    "# Turn off x and y axes\n",
    "ax.set_xticks([])\n",
    "ax.set_yticks([])\n",
    "\n",
    "plt.tight_layout()"
   ]
  },
  {
   "cell_type": "code",
   "execution_count": null,
   "id": "92fc5a7e-7f0c-4e06-a80f-28eeb8dc3c35",
   "metadata": {},
   "outputs": [],
   "source": [
    "sq.gr.co_occurrence(\n",
    "    adataset,\n",
    "    cluster_key=\"cell_type\",\n",
    ")"
   ]
  },
  {
   "cell_type": "code",
   "execution_count": null,
   "id": "79c9fd87-a874-43e2-91ee-1981dd0e956a",
   "metadata": {},
   "outputs": [],
   "source": [
    "sq.pl.co_occurrence(\n",
    "    adataset,\n",
    "    cluster_key=\"cell_type\",\n",
    "    clusters='tumor', figsize=(15, 7), \n",
    ")"
   ]
  },
  {
   "cell_type": "markdown",
   "id": "7142e23a-5cc8-4508-ab67-656d9f6b93ed",
   "metadata": {},
   "source": [
    "## Neighborhood Enrichment Analysis"
   ]
  },
  {
   "cell_type": "code",
   "execution_count": null,
   "id": "f7ec8937-4af3-4c6c-8693-623308741064",
   "metadata": {},
   "outputs": [],
   "source": [
    "%%time\n",
    "sq.gr.nhood_enrichment(adata, cluster_key=\"cell_type\")"
   ]
  },
  {
   "cell_type": "code",
   "execution_count": null,
   "id": "04eed828-543a-4f00-a9a9-27b2ab686cf3",
   "metadata": {},
   "outputs": [],
   "source": [
    "%%time\n",
    "sq.gr.nhood_enrichment(adataset, cluster_key=\"cell_type\")"
   ]
  },
  {
   "cell_type": "code",
   "execution_count": null,
   "id": "78000176-8ef7-4382-a9ce-5f620e068acc",
   "metadata": {},
   "outputs": [],
   "source": [
    "fig, ax = plt.subplots(1, 2, figsize=(22, 22))\n",
    "sq.pl.nhood_enrichment(\n",
    "    adata,\n",
    "    cluster_key=\"cell_type\",\n",
    "    figsize=(3, 3), vmin=12, vmax=-12, vcenter=0,\n",
    "    ax=ax[0],\n",
    "    title=\"Neighborhood enrichment adata\", cmap='RdBu_r'\n",
    ")\n",
    "sq.pl.nhood_enrichment(\n",
    "    adataset,\n",
    "    cluster_key=\"cell_type\",\n",
    "    figsize=(3, 3), vmin=12, vmax=-12, vcenter=0,\n",
    "    ax=ax[1],\n",
    "    title=\"Neighborhood enrichment adataset\", cmap='RdBu_r'\n",
    ")\n",
    "\n",
    "plt.tight_layout()"
   ]
  },
  {
   "cell_type": "markdown",
   "id": "556d53f1-66dd-46e4-92fd-34c5c639928e",
   "metadata": {
    "tags": []
   },
   "source": [
    "## Spatial statistics"
   ]
  },
  {
   "cell_type": "markdown",
   "id": "ad955fd8-5353-42c6-8616-3b0cf9e89208",
   "metadata": {},
   "source": [
    "### Ripley's L"
   ]
  },
  {
   "cell_type": "markdown",
   "id": "7dd4d3b8-e64c-4c4a-8425-d7001204b75d",
   "metadata": {},
   "source": [
    "https://en.wikipedia.org/wiki/Spatial_descriptive_statistics"
   ]
  },
  {
   "cell_type": "code",
   "execution_count": null,
   "id": "ed66fceb-5ee5-4c3d-858a-90a082485f4e",
   "metadata": {},
   "outputs": [],
   "source": [
    "%%time\n",
    "mode = \"L\"\n",
    "fig, ax = plt.subplots(1, 2, figsize=(20, 6))\n",
    "\n",
    "sq.gr.ripley(adataset, cluster_key=\"cell_type\", mode=mode)\n",
    "sq.pl.ripley(\n",
    "    adataset,\n",
    "    cluster_key=\"cell_type\",\n",
    "    mode=mode,\n",
    "    ax=ax[0],\n",
    ")\n",
    "\n",
    "sq.pl.spatial_segment(\n",
    "    adataset,\n",
    "    shape=\"hex\",\n",
    "    color=\"cell_type\",\n",
    "    library_id=[\"17\"],\n",
    "    library_key=\"fov\",\n",
    "    seg_cell_id=\"cell_ID\",\n",
    "    img=False,\n",
    "    size=60,\n",
    "    ax=ax[1],\n",
    ")\n",
    "\n",
    "plt.tight_layout()"
   ]
  },
  {
   "cell_type": "markdown",
   "id": "2628c422-6d48-443c-8bc3-0e06adadb938",
   "metadata": {},
   "source": [
    "### Spatial Correlation Analysis of genes"
   ]
  },
  {
   "cell_type": "code",
   "execution_count": null,
   "id": "2e3418f6-cb4d-41cf-b1d0-ef5044f8f340",
   "metadata": {},
   "outputs": [],
   "source": [
    "%%time\n",
    "sq.gr.spatial_neighbors(adataset, coord_type=\"generic\", delaunay=True)\n",
    "sq.gr.spatial_autocorr(\n",
    "    adataset,\n",
    "    mode=\"moran\",\n",
    "    n_perms=100,\n",
    "    n_jobs=1,\n",
    ")\n",
    "adataset.uns[\"moranI\"].head(10)"
   ]
  },
  {
   "cell_type": "code",
   "execution_count": null,
   "id": "14c69c4c-b2a5-4009-89be-4ef016dfc66c",
   "metadata": {},
   "outputs": [],
   "source": [
    "%%time\n",
    "sq.gr.spatial_neighbors(adataset, coord_type=\"generic\", delaunay=True)\n",
    "sq.gr.spatial_autocorr(\n",
    "    adataset,\n",
    "    mode=\"moran\",\n",
    "    n_perms=100,\n",
    "    n_jobs=1,\n",
    ")\n",
    "adataset.uns[\"moranI\"].head(10)"
   ]
  },
  {
   "cell_type": "code",
   "execution_count": null,
   "id": "59199d84-4603-480f-aafa-1a3542cdcc5b",
   "metadata": {},
   "outputs": [],
   "source": [
    "adataset.uns[\"moranI\"].index[:10]"
   ]
  },
  {
   "cell_type": "code",
   "execution_count": null,
   "id": "6eecf8e4-5f17-40da-b5c2-951e18a68dce",
   "metadata": {},
   "outputs": [],
   "source": [
    "%%time\n",
    "sq.pl.spatial_segment(\n",
    "    adataset,\n",
    "    shape=\"hex\",\n",
    "     color=[\"NDRG1\", \"HSP90AB1\", \"CXCL10\"],\n",
    "    library_id=[\"17\"],\n",
    "    library_key=\"fov\",\n",
    "    seg_cell_id=\"cell_ID\", \n",
    "    palette=None,\n",
    "    legend_loc=None,\n",
    "    img=False,\n",
    "    ncols=4,\n",
    "    size=40,)\n",
    "\n",
    "plt.tight_layout()"
   ]
  },
  {
   "cell_type": "markdown",
   "id": "736584d7-972d-4475-abb5-05960bd7f031",
   "metadata": {},
   "source": [
    "# Niche analysis"
   ]
  },
  {
   "cell_type": "code",
   "execution_count": null,
   "id": "01e6d639-db87-4596-a651-c7ecf95baf14",
   "metadata": {},
   "outputs": [],
   "source": [
    "\n",
    "def calculate_neighborhood_cell_composition_anndata(adata, n_neighbors=200, spatial_key='spatial_fov', cell_type_col='cell_type'):\n",
    "    \"\"\"\n",
    "    This function calculates the composition of cell types in the neighborhoods \n",
    "    of each cell in a given AnnData object and returns the modified AnnData.\n",
    "    \n",
    "    Parameters:\n",
    "    - adata: AnnData object containing cell data, including x and y coordinates and cell types.\n",
    "    - n_neighbors: Number of nearest neighbors to consider for each cell. Default is 200.\n",
    "    \n",
    "    Returns:\n",
    "    - adata: AnnData object with added columns representing the composition of cell types \n",
    "             in the neighborhoods of each cell.\n",
    "    \"\"\"\n",
    "\n",
    "    # Extracting coordinates and cell types from the AnnData object\n",
    "    coords = adata.obsm[spatial_key]\n",
    "    cell_types = adata.obs[cell_type_col].values\n",
    "    \n",
    "    # Obtaining unique cell types and sorting them\n",
    "    unique_cell_types = sorted(adata.obs[cell_type_col].unique())\n",
    "\n",
    "    # Initializing a NearestNeighbors object and fitting it to the data\n",
    "    neigh = NearestNeighbors(n_neighbors=n_neighbors)\n",
    "    neigh.fit(coords)\n",
    "\n",
    "    # Finding the indices of nearest neighbors for each point\n",
    "    _, neighbors_indices = neigh.kneighbors(coords)\n",
    "\n",
    "    # Mapping cell types to indices for faster processing\n",
    "    cell_type_to_index = {cell_type: i for i, cell_type in enumerate(unique_cell_types)}\n",
    "    cell_type_indices = np.vectorize(cell_type_to_index.get)(cell_types)\n",
    "\n",
    "    # Initializing an array to hold the counts of cell types in neighborhoods\n",
    "    cell_composition_counts = np.zeros((len(adata), len(unique_cell_types)))\n",
    "\n",
    "    # Printing progress information\n",
    "    print(f\"[{datetime.now().strftime('%Y-%m-%d %H:%M:%S')}] Calculating Neighborhood Cell Composition\")\n",
    "\n",
    "    # Counting the occurrences of each cell type in the neighborhoods\n",
    "    for i, neighbors in enumerate(neighbors_indices):\n",
    "        # Updating progress every 30000 iterations\n",
    "        if i % 3000 == 0:\n",
    "            print(f\"[{datetime.now().strftime('%Y-%m-%d %H:%M:%S')}] Processing cell ID: {i}\")\n",
    "        neighbor_types = cell_type_indices[neighbors]\n",
    "        for neighbor_type in neighbor_types:\n",
    "            cell_composition_counts[i, neighbor_type] += 1\n",
    "\n",
    "    # Creating a DataFrame from the counts\n",
    "    cell_composition_df = pd.DataFrame(\n",
    "        cell_composition_counts, \n",
    "        columns=[f'n_{ct}' for ct in unique_cell_types], \n",
    "        index=adata.obs.index\n",
    "    )\n",
    "\n",
    "    # Adding the new DataFrame to the AnnData object's .obs attribute\n",
    "    for col in cell_composition_df.columns:\n",
    "        adata.obs[col] = cell_composition_df[col].values\n",
    "\n",
    "    # Printing completion message\n",
    "    print(f\"[{datetime.now().strftime('%Y-%m-%d %H:%M:%S')}] Completed Neighborhood Cell Composition\")\n",
    "\n",
    "    return adata\n"
   ]
  },
  {
   "cell_type": "code",
   "execution_count": null,
   "id": "1c1e6b5e-4532-4d09-b1d1-fbba7eb92fdb",
   "metadata": {},
   "outputs": [],
   "source": [
    "adata"
   ]
  },
  {
   "cell_type": "code",
   "execution_count": null,
   "id": "ad90158a-98ea-4e10-847c-d7fdf8e1bb7d",
   "metadata": {},
   "outputs": [],
   "source": [
    "%%time\n",
    "adata = calculate_neighborhood_cell_composition_anndata(adata, n_neighbors=100, spatial_key='spatial_fov', cell_type_col='cell_type')"
   ]
  },
  {
   "cell_type": "code",
   "execution_count": null,
   "id": "8e2fd466-f55d-4495-b5f3-81da31044d4d",
   "metadata": {},
   "outputs": [],
   "source": [
    "adata"
   ]
  },
  {
   "cell_type": "code",
   "execution_count": null,
   "id": "1528afd1-4fb7-479c-99d1-31eb31de96e0",
   "metadata": {},
   "outputs": [],
   "source": [
    "niche_columns = ['n_'+ctype for ctype in adata.obs.cell_type.unique()]\n",
    "\n",
    "adata.obs[niche_columns]"
   ]
  },
  {
   "cell_type": "markdown",
   "id": "0980ad68-6c37-4e45-a0df-f87487f2508e",
   "metadata": {},
   "source": [
    "# Plot cell type compositions"
   ]
  },
  {
   "cell_type": "code",
   "execution_count": null,
   "id": "67b35b16-0d92-4f05-b7f6-3a8fd2610477",
   "metadata": {},
   "outputs": [],
   "source": [
    "import matplotlib.pyplot as plt\n",
    "import numpy as np\n",
    "import math\n",
    "\n",
    "unique_ctypes = list(adata.obs.cell_type.unique())\n",
    "\n",
    "# Set the number of columns\n",
    "ncols = 3\n",
    "# Calculate the number of rows based on the number of unique cell types and columns\n",
    "nrows = math.ceil(len(unique_ctypes) / ncols)\n",
    "\n",
    "fig, axes = plt.subplots(nrows, ncols, figsize=(7 * ncols, 3 * nrows))\n",
    "\n",
    "# Coordinates of all cells\n",
    "x_all = adata.obs['CenterX_global_px']\n",
    "y_all = adata.obs['CenterY_global_px']\n",
    "\n",
    "# Flatten the axes array for easy iteration (in case of multiple rows and columns)\n",
    "axes = axes.flatten()\n",
    "\n",
    "# Plot each niche in its own subplot\n",
    "for i, ctype in enumerate(unique_ctypes):\n",
    "    ax = axes[i]\n",
    "    \n",
    "    # Plot all cells in gray\n",
    "    ax.scatter(\n",
    "        x_all,\n",
    "        y_all,\n",
    "        c='lightgray',\n",
    "        s=2,\n",
    "        label='Other cells'\n",
    "    )\n",
    "    \n",
    "    # Get the data for the current cell type\n",
    "    ctype_data = adata.obs[adata.obs['cell_type'] == ctype]\n",
    "    x = ctype_data['CenterX_global_px']\n",
    "    y = ctype_data['CenterY_global_px']\n",
    "    values = ctype_data[f'n_{ctype}']  # Values to use for the colormap\n",
    "    \n",
    "    # Plot the current cell type with a colormap\n",
    "    scatter = ax.scatter(\n",
    "        x,\n",
    "        y,\n",
    "        c=values,  # Use the values from the column for color mapping\n",
    "        s=2,\n",
    "        vmin=0,\n",
    "        vmax=100,\n",
    "        cmap='rainbow',  # Specify the colormap\n",
    "        label=f'n_{ctype}'\n",
    "    )\n",
    "    \n",
    "    # Add a colorbar to show the range of the values\n",
    "    plt.colorbar(scatter, ax=ax, label=f'n_{ctype}')\n",
    "    \n",
    "    # Turn off x and y axes ticks\n",
    "    ax.set_xticks([])\n",
    "    ax.set_yticks([])\n",
    "    ax.set_title(f'n_{ctype}')  # Add the niche label as the subplot title\n",
    "\n",
    "# Turn off unused subplots\n",
    "for j in range(i + 1, len(axes)):\n",
    "    fig.delaxes(axes[j])\n",
    "\n",
    "# Adjust layout to prevent overlap\n",
    "plt.tight_layout()\n",
    "plt.show()\n"
   ]
  },
  {
   "cell_type": "code",
   "execution_count": null,
   "id": "c9677f67-19e6-4d24-8969-b1e9ee1f3eed",
   "metadata": {},
   "outputs": [],
   "source": []
  },
  {
   "cell_type": "code",
   "execution_count": null,
   "id": "ada0b3ea-439a-4b22-8eb6-d61275af1d2c",
   "metadata": {},
   "outputs": [],
   "source": []
  },
  {
   "cell_type": "markdown",
   "id": "a66db941-85c3-4627-99d6-24d903d10578",
   "metadata": {},
   "source": [
    "## Perform K-means clustering on the niche vectors"
   ]
  },
  {
   "cell_type": "code",
   "execution_count": null,
   "id": "5105d405-16aa-479c-aef2-67fb5ac3dc4f",
   "metadata": {},
   "outputs": [],
   "source": [
    "%%time\n",
    "n_clusters = 5\n",
    "random_state = 1111\n",
    "\n",
    "kmeans = KMeans(n_clusters=n_clusters, random_state=random_state)\n",
    "adata.obs['niche_kmeans'] = kmeans.fit_predict(adata.obs[niche_columns])\n",
    "\n",
    "# Prepend 'niche_' to the K-means cluster labels\n",
    "adata.obs['niche_kmeans'] = adata.obs['niche_kmeans'].astype(str).astype('category')\n",
    "adata.obs['niche_kmeans'] = adata.obs['niche_kmeans'].cat.rename_categories(lambda x: f'niche_{x}')"
   ]
  },
  {
   "cell_type": "code",
   "execution_count": null,
   "id": "38803128-540d-46aa-ac8b-3795a97ff915",
   "metadata": {},
   "outputs": [],
   "source": [
    "def plot_cell_type_proportions(adata, sort_by_cell_type=None):\n",
    "    # Group by 'niche_kmeans' and 'cell_type' to count occurrences\n",
    "    count_df = adata.obs.groupby(['niche_kmeans', 'cell_type']).size().reset_index(name='counts')\n",
    "    \n",
    "    # Calculate proportions for each 'niche_kmeans'\n",
    "    total_counts = count_df.groupby('niche_kmeans')['counts'].transform('sum')\n",
    "    count_df['proportion'] = count_df['counts'] / total_counts\n",
    "    \n",
    "    # Create a pivot table for plotting\n",
    "    pivot_df = count_df.pivot(index='niche_kmeans', columns='cell_type', values='proportion').fillna(0)\n",
    "    \n",
    "    # Sort pivot_df based on the specified cell type if provided\n",
    "    if sort_by_cell_type and sort_by_cell_type in pivot_df.columns:\n",
    "        pivot_df = pivot_df.sort_values(by=sort_by_cell_type, ascending=False)\n",
    "    \n",
    "    # Plotting the proportion bar plot\n",
    "    pivot_df.plot(kind='bar', stacked=True, figsize=(10, 6))\n",
    "    plt.ylabel('Proportion')\n",
    "    plt.xlabel('Niche KMeans Cluster')\n",
    "    plt.title('Proportion of Cell Types in Each Niche Cluster')\n",
    "    plt.legend(title='Cell Type', bbox_to_anchor=(1.05, 1), loc='upper left')\n",
    "    plt.tight_layout()\n",
    "    plt.show()\n",
    "\n",
    "# Example usage: Sort by a specific cell type\n",
    "plot_cell_type_proportions(adata, sort_by_cell_type='tumor')\n"
   ]
  },
  {
   "cell_type": "code",
   "execution_count": null,
   "id": "1c20a88a-f17d-48be-b848-254d8bde3701",
   "metadata": {},
   "outputs": [],
   "source": [
    "_ = adata.obs.niche_kmeans.value_counts().plot(kind='bar', title='Number of cells in each niche')"
   ]
  },
  {
   "cell_type": "code",
   "execution_count": null,
   "id": "363220d0-fe0e-475b-ab5f-e5a236aca8de",
   "metadata": {},
   "outputs": [],
   "source": [
    "fig, ax = plt.subplots(1, 1, figsize=(14, 5))\n",
    "\n",
    "# Create the scatter plot without grid lines\n",
    "ax = sc.pl.scatter(\n",
    "    adata,\n",
    "    x='CenterX_global_px',\n",
    "    y='CenterY_global_px',\n",
    "    color='niche_kmeans',\n",
    "    show=False, \n",
    "    size=15,\n",
    "    frameon=False, \n",
    "    ax=ax,\n",
    ")\n",
    "\n",
    "# Turn off x and y axes\n",
    "ax.set_xticks([])\n",
    "ax.set_yticks([])\n",
    "\n",
    "plt.tight_layout()"
   ]
  },
  {
   "cell_type": "code",
   "execution_count": null,
   "id": "c758fcc6-610c-4bde-b467-9f5056c78898",
   "metadata": {},
   "outputs": [],
   "source": [
    "niche_labels = ['niche_1', 'niche_2', 'niche_4', 'niche_0', 'niche_3']\n",
    "\n",
    "fig, axes = plt.subplots(len(niche_labels), 1, figsize=(7, 3 * len(niche_labels)))\n",
    "\n",
    "# If there's only one niche, axes will not be an array; we convert it to a list for uniform handling\n",
    "if len(niche_labels) == 1:\n",
    "    axes = [axes]\n",
    "\n",
    "# Plot each niche in its own subplot\n",
    "for i, niche in enumerate(niche_labels):\n",
    "    ax = axes[i]\n",
    "    sc.pl.scatter(\n",
    "        adata,\n",
    "        x='CenterX_global_px',\n",
    "        y='CenterY_global_px',\n",
    "        color='niche_kmeans',\n",
    "        groups=[niche],\n",
    "        show=False,\n",
    "        size=15,\n",
    "        frameon=False,\n",
    "        ax=ax,\n",
    "        legend_loc='none'  # Hide legend to avoid repetition in each subplot\n",
    "    )\n",
    "    # Turn off x and y axes ticks\n",
    "    ax.set_xticks([])\n",
    "    ax.set_yticks([])\n",
    "    ax.set_title(niche)  # Add the niche label as the subplot title\n",
    "\n",
    "plt.tight_layout()\n",
    "plt.show()"
   ]
  },
  {
   "cell_type": "markdown",
   "id": "82ffd45c-5109-4b02-8b7f-781062b0c96f",
   "metadata": {},
   "source": [
    "## Differentially expressed genes among the niches"
   ]
  },
  {
   "cell_type": "code",
   "execution_count": null,
   "id": "3c752b49-c41c-4380-b742-189bc22379fa",
   "metadata": {},
   "outputs": [],
   "source": [
    "%%time\n",
    "groupby='niche_kmeans'\n",
    "method='wilcoxon'\n",
    "n_genes = 5\n",
    "\n",
    "# Perform differential expression analysis\n",
    "sc.tl.dendrogram(adata, groupby=groupby)\n",
    "sc.tl.rank_genes_groups(adata, \n",
    "                        groupby=groupby, \n",
    "                        method=method, \n",
    "                        n_genes=adata.n_vars, \n",
    "                        tie_correct=True                        \n",
    "                       )"
   ]
  },
  {
   "cell_type": "markdown",
   "id": "040be57f-82f8-41fb-a886-8d1551cb5051",
   "metadata": {},
   "source": [
    "### Heatmap of DE genes"
   ]
  },
  {
   "cell_type": "code",
   "execution_count": null,
   "id": "6c69b0af-4a70-423b-9d5d-31593137275c",
   "metadata": {},
   "outputs": [],
   "source": [
    "sc.pl.rank_genes_groups_heatmap(\n",
    "    adata,\n",
    "    groupby=groupby,\n",
    "    n_genes=n_genes,\n",
    "    use_raw=False,\n",
    "    show=True,\n",
    "    dendrogram=True\n",
    ")"
   ]
  },
  {
   "cell_type": "markdown",
   "id": "47584a5c-c717-4329-bfdb-67c67aca1b2e",
   "metadata": {},
   "source": [
    "### Dot plot of DE genes"
   ]
  },
  {
   "cell_type": "code",
   "execution_count": null,
   "id": "075ca447-e133-4026-bccf-c33038476e4a",
   "metadata": {},
   "outputs": [],
   "source": [
    "sc.pl.rank_genes_groups_dotplot(\n",
    "    adata,\n",
    "    groupby=groupby,\n",
    "    n_genes=n_genes,\n",
    "    use_raw=False,\n",
    "    show=True\n",
    ")"
   ]
  },
  {
   "cell_type": "code",
   "execution_count": null,
   "id": "238256af-6a13-4146-aa3f-74801247c99f",
   "metadata": {},
   "outputs": [],
   "source": [
    "adata"
   ]
  },
  {
   "cell_type": "markdown",
   "id": "ab6756f4-1f04-472a-8980-4d23aec19839",
   "metadata": {},
   "source": [
    "### DE analysis between tumor cells in different niches"
   ]
  },
  {
   "cell_type": "code",
   "execution_count": null,
   "id": "1de4711c-8f97-494c-a745-02dfb5133362",
   "metadata": {},
   "outputs": [],
   "source": [
    "adata_tumor = adata[adata.obs.cell_type=='tumor']"
   ]
  },
  {
   "cell_type": "code",
   "execution_count": null,
   "id": "f24aa481-f9f9-495a-bc76-5900e0e83d2f",
   "metadata": {},
   "outputs": [],
   "source": [
    "adata_tumor = adata_tumor[adata_tumor.obs['niche_kmeans'].isin(['niche_1', 'niche_3'])]\n",
    "adata_tumor"
   ]
  },
  {
   "cell_type": "code",
   "execution_count": null,
   "id": "e7dd20a7-58c0-4699-851c-f769f8f0a7f7",
   "metadata": {},
   "outputs": [],
   "source": [
    "%%time\n",
    "groupby = 'niche_kmeans'\n",
    "sc.tl.dendrogram(adata_tumor, groupby=groupby)\n",
    "sc.tl.rank_genes_groups(adata_tumor, groupby=groupby)"
   ]
  },
  {
   "cell_type": "code",
   "execution_count": null,
   "id": "10e7d414-460f-4c8b-9f8b-9d53680155e3",
   "metadata": {},
   "outputs": [],
   "source": [
    "sc.pl.rank_genes_groups_dotplot(\n",
    "    adata_tumor,\n",
    "    groupby=groupby,\n",
    "    values_to_plot='logfoldchanges',\n",
    "    cmap='bwr',\n",
    "    n_genes=n_genes,\n",
    "    use_raw=False,\n",
    "    vmin=-5, vmax=5,\n",
    "    show=True\n",
    ")"
   ]
  },
  {
   "cell_type": "code",
   "execution_count": null,
   "id": "5f92d3dd-2ab2-4743-8d4b-7a71baec4249",
   "metadata": {},
   "outputs": [],
   "source": []
  },
  {
   "cell_type": "code",
   "execution_count": null,
   "id": "0dbd06ea-98c4-4c57-ac9d-4ee74d3586a9",
   "metadata": {},
   "outputs": [],
   "source": [
    "%%time\n",
    "\n",
    "\n",
    "# Step 1: Extract the top upregulated genes for each group\n",
    "top_genes = {}\n",
    "groupby = \"cell_type\"  # You can modify this to match your analysis\n",
    "n_genes = 50           # Adjust as needed for your top n genes\n",
    "\n",
    "# Get the ranked genes data\n",
    "ranked_genes = adata_tumor.uns['rank_genes_groups']\n",
    "groups = ranked_genes['names'].dtype.names\n",
    "\n",
    "# Extract the top upregulated genes for each group\n",
    "for group in groups:\n",
    "    gene_names = ranked_genes['names'][group][:n_genes]\n",
    "    logfold_changes = ranked_genes['logfoldchanges'][group][:n_genes]\n",
    "    \n",
    "    # Only keep upregulated genes\n",
    "    upregulated_genes = [gene for gene, lfc in zip(gene_names, logfold_changes) if lfc > 0]\n",
    "    top_genes[group] = upregulated_genes\n",
    "\n",
    "# Step 2: Perform GSEA for each group\n",
    "# Here, we use gene ontology (GO_Biological_Process_2021) as an example gene set library\n",
    "gsea_results = {}\n",
    "for group, genes in top_genes.items():\n",
    "    if genes:\n",
    "        enrichment_result = gp.enrichr(\n",
    "            gene_list=genes,\n",
    "            gene_sets=['GO_Biological_Process_2021', 'MSigDB_Hallmark_2020'],\n",
    "            organism='Human',  # Change as needed: 'Mouse', etc.\n",
    "            outdir=None,       # Disable file output\n",
    "            verbose=False\n",
    "        )\n",
    "        gsea_results[group] = enrichment_result\n",
    "\n",
    "        # Step 3: Plot the top enriched terms for each group\n",
    "        if enrichment_result.res2d is not None and not enrichment_result.res2d.empty:\n",
    "            print(f\"Top Enriched Terms for {group}\")\n",
    "            barplot(enrichment_result.res2d, title=f\"GSEA Enrichment - {group}\")\n",
    "        # print(enrichment_result.res2d)\n",
    "plt.show()\n"
   ]
  },
  {
   "cell_type": "markdown",
   "id": "bbc81583-b5d8-48bd-bb46-8e5f7e8a20de",
   "metadata": {},
   "source": [
    "## Ligand-Receptor Analysis"
   ]
  },
  {
   "cell_type": "code",
   "execution_count": null,
   "id": "0a36ac07-669e-4241-839a-968ef8616343",
   "metadata": {},
   "outputs": [],
   "source": [
    "'VEGFB' in adata.var_names"
   ]
  },
  {
   "cell_type": "code",
   "execution_count": null,
   "id": "b2beb0ed-f7d7-435b-8c91-e80411051c2c",
   "metadata": {},
   "outputs": [],
   "source": [
    "lrs = mb.util.load_ligand_receptor_pairs_omnipath(adata, require_gene='IL2')\n",
    "lrs += mb.util.load_ligand_receptor_pairs_omnipath(adata, require_gene='IL2RA')\n",
    "lrs += mb.util.load_ligand_receptor_pairs_omnipath(adata, require_gene='IL6')\n",
    "lrs += mb.util.load_ligand_receptor_pairs_omnipath(adata, require_gene='IL6R')\n",
    "lrs += mb.util.load_ligand_receptor_pairs_omnipath(adata, require_gene='JAG1')\n",
    "lrs += mb.util.load_ligand_receptor_pairs_omnipath(adata, require_gene='NOTCH1')\n",
    "lrs += mb.util.load_ligand_receptor_pairs_omnipath(adata, require_gene='NOTCH2')\n",
    "lrs += mb.util.load_ligand_receptor_pairs_omnipath(adata, require_gene='NOTCH3')\n",
    "lrs += mb.util.load_ligand_receptor_pairs_omnipath(adata, require_gene='VEGFA')\n",
    "lrs += mb.util.load_ligand_receptor_pairs_omnipath(adata, require_gene='VEGFB')\n",
    "lrs += mb.util.load_ligand_receptor_pairs_omnipath(adata, require_gene='FLT1')\n",
    "lrs += mb.util.load_ligand_receptor_pairs_omnipath(adata, require_gene='KDR')\n",
    "lrs"
   ]
  },
  {
   "cell_type": "code",
   "execution_count": null,
   "id": "52252527-b48b-4596-ba0b-772e62bb0df0",
   "metadata": {},
   "outputs": [],
   "source": [
    "lr_pairs = []\n",
    "for g1, g2 in lrs:\n",
    "    if g2 in ['IL2', 'IL6', 'JAG1']:\n",
    "        lr_pairs.append((g2, g1))\n",
    "    else:\n",
    "        lr_pairs.append((g1, g2))\n",
    "lr_pairs"
   ]
  },
  {
   "cell_type": "code",
   "execution_count": null,
   "id": "4e45b8f4-f594-46f8-b22b-1a8bd922e4e5",
   "metadata": {},
   "outputs": [],
   "source": [
    "# For each pDC, find the neighboring Tregs\n",
    "cell_to_neighbors = mb.calc.cell_neighbors(\n",
    "    adata,\n",
    "    groupby='cell_type',\n",
    "    group1=['tumor'],\n",
    "    group2=['fibroblast', 'neutrophil', 'T CD4 memory',],\n",
    "    radius=50, \n",
    "    basis='spatial_fov',\n",
    ") \n",
    "\n",
    "lr_pair_to_score = mb.calc.ligand_receptor_score(\n",
    "    adata,\n",
    "    cell_to_neighbors,\n",
    "    lr_pairs=lr_pairs\n",
    ")"
   ]
  },
  {
   "cell_type": "code",
   "execution_count": null,
   "id": "e4394e58-4fd7-4847-9f7a-656017efbff5",
   "metadata": {},
   "outputs": [],
   "source": [
    "res = mb.stat.ligand_receptor_score(\n",
    "    adata,\n",
    "    cell_to_neighbors,\n",
    "    actual_scores=lr_pair_to_score\n",
    ")"
   ]
  },
  {
   "cell_type": "code",
   "execution_count": null,
   "id": "fd79f147-a461-46fe-a2f6-aa51f918f31f",
   "metadata": {},
   "outputs": [],
   "source": [
    "fig, ax = plt.subplots(1, 1, figsize=(13,13))\n",
    "mb.plot.ligand_receptor_scatter(\n",
    "    lr_pair_to_score,\n",
    "    res,\n",
    "    ax=ax\n",
    ")"
   ]
  },
  {
   "cell_type": "code",
   "execution_count": null,
   "id": "6399659a-70d4-4ebc-a2c0-b1409730cac9",
   "metadata": {},
   "outputs": [],
   "source": []
  }
 ],
 "metadata": {
  "kernelspec": {
   "display_name": "Python 3 (ipykernel)",
   "language": "python",
   "name": "python3"
  },
  "language_info": {
   "codemirror_mode": {
    "name": "ipython",
    "version": 3
   },
   "file_extension": ".py",
   "mimetype": "text/x-python",
   "name": "python",
   "nbconvert_exporter": "python",
   "pygments_lexer": "ipython3",
   "version": "3.11.10"
  }
 },
 "nbformat": 4,
 "nbformat_minor": 5
}
