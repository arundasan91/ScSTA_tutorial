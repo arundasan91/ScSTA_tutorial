{
 "cells": [
  {
   "cell_type": "markdown",
   "id": "620f40b4-d0b8-4ea5-a36e-bc78da841aa5",
   "metadata": {},
   "source": [
    "# The Single-Cell Spatial Transcriptomics Analysis (ScSTA) Cookbook"
   ]
  },
  {
   "cell_type": "markdown",
   "id": "3c6828ff-c86e-4c6f-bdde-aad778420889",
   "metadata": {},
   "source": [
    "```\n",
    "Arun Das\n",
    "Postdoctoral Associate\n",
    "Hillman Cancer Center\n",
    "University of Pittsburgh Medical Center\n",
    "```"
   ]
  },
  {
   "cell_type": "markdown",
   "id": "f8b4a587-2cd4-4750-847f-756dce3e0223",
   "metadata": {},
   "source": [
    "## Non-Small Cell Lung Cancer Exploration"
   ]
  },
  {
   "cell_type": "markdown",
   "id": "b097c37f-4c31-4d75-8ee1-d5a1d6f87ac6",
   "metadata": {},
   "source": [
    "## Install packages"
   ]
  },
  {
   "cell_type": "raw",
   "id": "c961cca6-a0ce-4943-b888-132f4694cad3",
   "metadata": {},
   "source": [
    "!pip install -q numpy pandas\n",
    "!pip install -q --upgrade --force scanpy squidpy\n",
    "!pip install -q matplotlib seaborn\n",
    "!conda install -y -q -c conda-forge opencv\n",
    "!pip install -q scikit-misc\n",
    "!pip install -q --upgrade --force scanpy squidpy\n",
    "!pip install -q louvain\n",
    "!pip install -q tqdm\n",
    "!pip install -q ipywidgets\n",
    "!pip install -q esda\n",
    "!pip install -q splot"
   ]
  },
  {
   "cell_type": "markdown",
   "id": "809bd02e-b0d3-4411-89ff-976d3a45fb2d",
   "metadata": {},
   "source": [
    "## Import packages"
   ]
  },
  {
   "cell_type": "code",
   "execution_count": null,
   "id": "0ec1b547-9f96-4638-b1b0-4c70fe297cda",
   "metadata": {},
   "outputs": [],
   "source": [
    "%matplotlib inline\n",
    "import warnings\n",
    "# Suppress all warnings\n",
    "warnings.filterwarnings('ignore')\n",
    "\n",
    "import os\n",
    "import matplotlib.pyplot as plt\n",
    "import seaborn as sns\n",
    "\n",
    "from pathlib import Path\n",
    "import scanpy as sc\n",
    "import numpy as np\n",
    "import squidpy as sq\n",
    "import pandas as pd\n",
    "\n",
    "import tqdm as notebook_tqdm\n",
    "\n",
    "pd.set_option(\"display.max_columns\", None)\n",
    "\n",
    "# Plotting options, change to your liking\n",
    "sc.settings.set_figure_params(dpi=80, frameon=False, facecolor=\"white\")\n",
    "sc.set_figure_params(dpi=80)\n",
    "sc.set_figure_params(figsize=(4, 4))\n",
    "sc.settings.verbosity = 0"
   ]
  },
  {
   "cell_type": "markdown",
   "id": "1d182d0d-8c1a-4427-9ede-b5aee22cf9c5",
   "metadata": {},
   "source": [
    "## Download CosMx SMI NSCLC FFPE Dataset for analysis"
   ]
  },
  {
   "cell_type": "markdown",
   "id": "35b534ad-5eda-4a12-9c58-c57e7098188b",
   "metadata": {},
   "source": [
    "### https://nanostring.com/products/cosmx-spatial-molecular-imager/nsclc-ffpe-dataset/"
   ]
  },
  {
   "cell_type": "raw",
   "id": "d22cf66f-e5f7-487f-b312-aa4ce5d93a3c",
   "metadata": {},
   "source": [
    "# Create the directory 'tutorial_data' if it doesn't exist\n",
    "os.makedirs('tutorial_data', exist_ok=True)\n",
    "\n",
    "# Create the directory 'nanostring_data' inside 'tutorial_data' if it doesn't exist\n",
    "os.makedirs('tutorial_data/nanostring_data', exist_ok=True)\n",
    "\n",
    "# Download the tar file\n",
    "!curl -o tutorial_data/nanostring_data/Lung9_Rep1+SMI+Flat+data.tar.gz https://nanostring-public-share.s3.us-west-2.amazonaws.com/SMI-Compressed/Lung9_Rep1/Lung9_Rep1+SMI+Flat+data.tar.gz\n",
    "\n",
    "#Extract the tar file\n",
    "!tar -xzf tutorial_data/nanostring_data/Lung9_Rep1+SMI+Flat+data.tar.gz -C tutorial_data/nanostring_data/\n",
    "\n",
    "#Download the extracted cell type information\n",
    "!curl -o tutorial_data/nanostring_data/Lung9_Rep1_ctypes.csv https://github.com/arundasan91/ScSTA_tutorial/raw/main/tutorial_data/nanostring_data/Lung9_Rep1_ctypes.csv"
   ]
  },
  {
   "cell_type": "code",
   "execution_count": null,
   "id": "4921ecdd-9bae-4d36-accf-407fc61ea6dd",
   "metadata": {},
   "outputs": [],
   "source": [
    "nanostring_dir = Path().resolve() / \"tutorial_data\" / \"nanostring_data\"\n",
    "sample_dir = nanostring_dir / \"Lung9_Rep1\" / \"Lung9_Rep1-Flat_files_and_images\"\n",
    "\n",
    "adata = sq.read.nanostring(\n",
    "    path=sample_dir,\n",
    "    counts_file=\"Lung9_Rep1_exprMat_file.csv\",\n",
    "    meta_file=\"Lung9_Rep1_metadata_file.csv\",\n",
    "    fov_file=\"Lung9_Rep1_fov_positions_file.csv\",\n",
    ")"
   ]
  },
  {
   "cell_type": "code",
   "execution_count": null,
   "id": "ae9cbc4b-3d12-492c-bbbc-c8fa7f86c4f7",
   "metadata": {},
   "outputs": [],
   "source": [
    "adata"
   ]
  },
  {
   "cell_type": "code",
   "execution_count": null,
   "id": "6bbdf708-b82f-4919-aaeb-ff6e6f12c498",
   "metadata": {},
   "outputs": [],
   "source": [
    "adata.obs"
   ]
  },
  {
   "cell_type": "code",
   "execution_count": null,
   "id": "c4526103-c91a-4d3d-ae34-d3388b5dfdd1",
   "metadata": {
    "tags": []
   },
   "outputs": [],
   "source": [
    "adata.obs['tissue'] = \"Lung9_Rep1\""
   ]
  },
  {
   "cell_type": "code",
   "execution_count": null,
   "id": "e2173298-60f5-4b90-973f-64448154d7d3",
   "metadata": {
    "tags": []
   },
   "outputs": [],
   "source": [
    "adata.obs.head()"
   ]
  },
  {
   "cell_type": "markdown",
   "id": "c0fa33bf-79c1-42d3-8094-3468478a901f",
   "metadata": {},
   "source": [
    "## Load the cell type information for the NSCLC sample"
   ]
  },
  {
   "cell_type": "code",
   "execution_count": null,
   "id": "df475524-2aee-4147-87d8-28b42cb04d1c",
   "metadata": {},
   "outputs": [],
   "source": [
    "df = pd.read_csv(f'{sample_dir}/Lung9_Rep1_ctypes.csv', index_col=0)\n",
    "df.index = [f'{str(c)}_{str(fov)}' for c,fov in zip(df['cell_ID'], df['fov'])]\n",
    "df"
   ]
  },
  {
   "cell_type": "markdown",
   "id": "1951d9f0-5772-41bb-a1e0-b8ab29008824",
   "metadata": {},
   "source": [
    "## Combine the cell type information with the gene expressions"
   ]
  },
  {
   "cell_type": "code",
   "execution_count": null,
   "id": "2a315c9d-b298-47b5-97a0-3e6fc3ffb194",
   "metadata": {},
   "outputs": [],
   "source": [
    "adata_ctype = pd.merge(adata.obs, df['cell_type'], how='outer', right_index=True, left_index=True)\n",
    "adata_ctype = adata_ctype.drop_duplicates()\n",
    "adata_ctype['cell_type'].fillna('unknown', inplace=True)\n",
    "adata_ctype.replace({k:'tumor' for k in ['tumor '+ str(i) for i in [5, 6, 9, 12, 13]]}, inplace=True)\n",
    "adata_ctype = adata_ctype.loc[adata.obs.index]\n",
    "\n",
    "for column_name in adata_ctype.columns:\n",
    "    if column_name in adata.obs.columns:\n",
    "        new_dtype = adata.obs[column_name].dtype\n",
    "        adata_ctype[column_name] = adata.obs[column_name].astype(new_dtype)\n",
    "        \n",
    "adata.obs = adata_ctype"
   ]
  },
  {
   "cell_type": "code",
   "execution_count": null,
   "id": "99697c74-4487-4f3b-ae88-55cc2f36cda4",
   "metadata": {},
   "outputs": [],
   "source": [
    "adata.obs"
   ]
  },
  {
   "cell_type": "code",
   "execution_count": null,
   "id": "fc465cc6-e552-4461-b625-b406ea4f8d9e",
   "metadata": {
    "tags": []
   },
   "outputs": [],
   "source": [
    "adata"
   ]
  },
  {
   "cell_type": "markdown",
   "id": "080d6ba8-f045-4222-8fc3-fdfc0a4628b1",
   "metadata": {},
   "source": [
    "## Quality Control"
   ]
  },
  {
   "cell_type": "code",
   "execution_count": null,
   "id": "6075da7a-4a08-4ae5-b53e-e827c883dc4e",
   "metadata": {},
   "outputs": [],
   "source": [
    "adata.var[\"NegPrb\"] = adata.var_names.str.startswith(\"NegPrb\")\n",
    "sc.pp.calculate_qc_metrics(adata, qc_vars=[\"NegPrb\"], inplace=True)"
   ]
  },
  {
   "cell_type": "code",
   "execution_count": null,
   "id": "804d1ff1-9fa4-43be-84f9-8a8f919f7dde",
   "metadata": {},
   "outputs": [],
   "source": [
    "adata = adata[:, ~adata.var_names.str.startswith(\"NegPrb\")]"
   ]
  },
  {
   "cell_type": "raw",
   "id": "ffc92056-27a5-40b8-8ce5-76dfbcbb49a0",
   "metadata": {},
   "source": [
    "fig, axs = plt.subplots(1, 4, figsize=(15, 4))\n",
    "sns.distplot(adata.obs[\"total_counts\"], kde=False, ax=axs[0])\n",
    "sns.distplot(adata.obs[\"total_counts\"][adata.obs[\"total_counts\"] < 1000], kde=False, bins=40, ax=axs[1])\n",
    "sns.distplot(adata.obs[\"n_genes_by_counts\"], kde=False, bins=60, ax=axs[2])\n",
    "sns.distplot(adata.obs[\"n_genes_by_counts\"][adata.obs[\"n_genes_by_counts\"] < 400], kde=False, bins=60, ax=axs[3])\n",
    "\n",
    "plt.tight_layout()"
   ]
  },
  {
   "cell_type": "raw",
   "id": "0aa4fe48-6045-4212-9b97-0077549d6b2d",
   "metadata": {},
   "source": [
    "sc.pp.filter_cells(adata, min_counts=100)\n",
    "sc.pp.filter_cells(adata, max_counts=1200)"
   ]
  },
  {
   "cell_type": "raw",
   "id": "55deec3a-4cf5-4db4-9602-868512a1eec8",
   "metadata": {},
   "source": [
    "sc.pl.scatter(adata, x='total_counts', y='n_genes_by_counts')"
   ]
  },
  {
   "cell_type": "code",
   "execution_count": null,
   "id": "fa328c90-ce27-4543-b559-03b0193d942c",
   "metadata": {},
   "outputs": [],
   "source": [
    "fig, axs = plt.subplots(1, 3, figsize=(15, 4))\n",
    "\n",
    "axs[0].set_title(\"Total transcripts per cell\")\n",
    "sns.histplot(\n",
    "    adata.obs[\"total_counts\"],\n",
    "    kde=False,\n",
    "    ax=axs[0],\n",
    ")\n",
    "\n",
    "axs[1].set_title(\"Unique transcripts per cell\")\n",
    "sns.histplot(\n",
    "    adata.obs[\"n_genes_by_counts\"],\n",
    "    kde=False,\n",
    "    ax=axs[1],\n",
    ")\n",
    "\n",
    "axs[2].set_title(\"Transcripts per FOV\")\n",
    "sns.histplot(\n",
    "    adata.obs.groupby(\"fov\")[\"total_counts\"].sum(),\n",
    "    kde=False,\n",
    "    ax=axs[2],\n",
    ")\n",
    "\n",
    "plt.tight_layout()"
   ]
  },
  {
   "cell_type": "markdown",
   "id": "4b208b11-60ea-425a-ad18-9892597ee96d",
   "metadata": {},
   "source": [
    "## Morphology Image Summary"
   ]
  },
  {
   "cell_type": "code",
   "execution_count": null,
   "id": "a5df98c9-58c5-4838-9f22-55440c9f4bc0",
   "metadata": {},
   "outputs": [],
   "source": [
    "fig, axs = plt.subplots(1, 4, figsize=(15, 4))\n",
    "\n",
    "axs[0].set_title(\"Membrane Stain\")\n",
    "sns.histplot(\n",
    "    adata.obs[\"Mean.MembraneStain\"],\n",
    "    kde=False,\n",
    "    ax=axs[0],\n",
    ")\n",
    "\n",
    "axs[1].set_title(\"PanCK\")\n",
    "sns.histplot(\n",
    "    adata.obs[\"Mean.PanCK\"],\n",
    "    kde=False,\n",
    "    ax=axs[1],\n",
    ")\n",
    "\n",
    "axs[2].set_title(\"CD45\")\n",
    "sns.histplot(\n",
    "    adata.obs[\"Mean.CD45\"],\n",
    "    kde=False,\n",
    "    ax=axs[2],\n",
    ")\n",
    "\n",
    "axs[3].set_title(\"CD3\")\n",
    "sns.histplot(\n",
    "    adata.obs[\"Mean.CD3\"],\n",
    "    kde=False,\n",
    "    ax=axs[3],\n",
    ")\n",
    "\n",
    "plt.tight_layout()"
   ]
  },
  {
   "cell_type": "markdown",
   "id": "5ac9889b-30ed-4628-9a49-f90e454379b1",
   "metadata": {},
   "source": [
    "## Filter the cells and genes"
   ]
  },
  {
   "cell_type": "code",
   "execution_count": null,
   "id": "e3b63917-407a-41be-a702-c21ea32e4c5d",
   "metadata": {},
   "outputs": [],
   "source": [
    "sc.pp.filter_cells(adata, min_counts=100)\n",
    "sc.pp.filter_genes(adata, min_cells=100)"
   ]
  },
  {
   "cell_type": "code",
   "execution_count": null,
   "id": "7fae8805-6927-4bf8-8b9e-15131594cdff",
   "metadata": {},
   "outputs": [],
   "source": [
    "adata.obs"
   ]
  },
  {
   "cell_type": "code",
   "execution_count": null,
   "id": "2e62c57e-3635-4c4e-bd9e-5d5c6e8d02c1",
   "metadata": {
    "tags": []
   },
   "outputs": [],
   "source": [
    "selected_fovs = [f\"{i}\" for i in [17, 18, 19, 13, 14, 15]]"
   ]
  },
  {
   "cell_type": "markdown",
   "id": "22cea29a-08c3-44e7-8a8d-59c614a398df",
   "metadata": {
    "tags": []
   },
   "source": [
    "## Spatial plot of cell types (with cell segmentations)"
   ]
  },
  {
   "cell_type": "code",
   "execution_count": null,
   "id": "a1404168-4492-43e5-b097-c2a79640ccea",
   "metadata": {
    "tags": []
   },
   "outputs": [],
   "source": [
    "plot_focus = \"cell_type\"\n",
    "\n",
    "axs_scatter = sq.pl.spatial_segment(\n",
    "    adata,\n",
    "    color=plot_focus,\n",
    "    library_key=\"fov\",\n",
    "    library_id = selected_fovs,\n",
    "    seg_cell_id=\"cell_ID\", \n",
    "    seg_outline = True,\n",
    "    # palette='tab20',\n",
    "    img=False,\n",
    "    colorbar=False,\n",
    "    hspace=0, wspace=0,\n",
    "    ncols=3,\n",
    "    legend_loc=None,\n",
    "    outline=False,\n",
    "    axis_label = None,\n",
    "    figsize=(7,4.5),\n",
    "    # library_first=True,\n",
    "    frameon=False,\n",
    "    title=None,\n",
    "    return_ax = True\n",
    ")\n",
    "\n",
    "# Get the current Matplotlib axes object\n",
    "for ax in axs_scatter:    \n",
    "    # Remove the title from the Matplotlib axes\n",
    "    ax.set_title(\"\")\n",
    "\n",
    "# Adjust the spacing between subplots\n",
    "plt.subplots_adjust(hspace=0.0001, wspace=0.0001)\n",
    "\n",
    "# Optionally, tighten the layout\n",
    "# plt.tight_layout()\n",
    "\n",
    "# plt.savefig(os.path.join(sample_dir, 'generated_figures', f'whole_tissue_{plot_focus}.png'), dpi=200)\n",
    "# Show or save the plot\n",
    "plt.show()"
   ]
  },
  {
   "cell_type": "code",
   "execution_count": null,
   "id": "6ce08070-d496-4e80-9105-90ba7809e616",
   "metadata": {
    "tags": []
   },
   "outputs": [],
   "source": [
    "adata"
   ]
  },
  {
   "cell_type": "markdown",
   "id": "4a5f27af-f31d-4c50-b30e-f0d23d83d5d7",
   "metadata": {},
   "source": [
    "## Subset the AnnData object"
   ]
  },
  {
   "cell_type": "code",
   "execution_count": null,
   "id": "dba9852f-5f7c-492a-95b2-f69a46fbb57c",
   "metadata": {
    "tags": []
   },
   "outputs": [],
   "source": [
    "adata = adata[adata.obs['fov'].isin(selected_fovs)]"
   ]
  },
  {
   "cell_type": "markdown",
   "id": "ce4be07e-d7ab-41f9-ab5e-f0d87748ce9a",
   "metadata": {},
   "source": [
    "## Spatial plot of cell types (2D scatter plot)"
   ]
  },
  {
   "cell_type": "code",
   "execution_count": null,
   "id": "f530f8e8-2208-4d41-b1b0-925b1f47934c",
   "metadata": {
    "tags": []
   },
   "outputs": [],
   "source": [
    "fig, ax = plt.subplots(1, 1, figsize=(14, 5))\n",
    "\n",
    "# Create the scatter plot without grid lines\n",
    "ax = sc.pl.scatter(\n",
    "    adata,\n",
    "    x='CenterX_global_px',\n",
    "    y='CenterY_global_px',\n",
    "    color='cell_type',\n",
    "    show=False, \n",
    "    size=15,\n",
    "    frameon=False, \n",
    "    ax=ax\n",
    "    # legend_loc='none'\n",
    ")\n",
    "\n",
    "# Turn off x and y axes\n",
    "ax.set_xticks([])\n",
    "ax.set_yticks([])\n",
    "\n",
    "plt.tight_layout()\n",
    "\n",
    "plt.savefig(os.path.join(sample_dir, 'generated_figures', f'scatter_plot_celltypes.png'), dpi=200)"
   ]
  },
  {
   "cell_type": "markdown",
   "id": "7fe68d57-7f7b-4e29-bb6f-9fc35d401c92",
   "metadata": {},
   "source": [
    "## Carry out Preprocessing"
   ]
  },
  {
   "cell_type": "code",
   "execution_count": null,
   "id": "98ec4b43-3ad9-4e2a-8e1d-79f2b6605118",
   "metadata": {},
   "outputs": [],
   "source": [
    "adata.layers[\"counts\"] = adata.X.copy()"
   ]
  },
  {
   "cell_type": "markdown",
   "id": "e1f48ee7-5caa-4035-93b5-0422f0ad6e30",
   "metadata": {},
   "source": [
    "### Normalize the data based on the total reads"
   ]
  },
  {
   "cell_type": "code",
   "execution_count": null,
   "id": "70647ca8-0dc9-41a4-b5d6-db68d098285c",
   "metadata": {},
   "outputs": [],
   "source": [
    "sc.pp.normalize_total(adata)"
   ]
  },
  {
   "cell_type": "markdown",
   "id": "65bab86a-95fb-4aca-bfa0-5bcf80a14aed",
   "metadata": {},
   "source": [
    "### Log normalize the dataset"
   ]
  },
  {
   "cell_type": "code",
   "execution_count": null,
   "id": "df90d22a-d453-47e6-b406-7bba42568838",
   "metadata": {},
   "outputs": [],
   "source": [
    "sc.pp.log1p(adata)"
   ]
  },
  {
   "cell_type": "markdown",
   "id": "4212a3ac-6755-4d1f-985c-d59d92ccc120",
   "metadata": {},
   "source": [
    "### Find the highly variable genes"
   ]
  },
  {
   "cell_type": "code",
   "execution_count": null,
   "id": "7c9c0a50-148e-4251-9f7c-9e4ebb30a6c7",
   "metadata": {},
   "outputs": [],
   "source": [
    "sc.pp.highly_variable_genes(adata)"
   ]
  },
  {
   "cell_type": "code",
   "execution_count": null,
   "id": "6764b64f-1ff5-497c-88fc-3277dc5063d4",
   "metadata": {},
   "outputs": [],
   "source": [
    "sc.pl.highly_variable_genes(adata)"
   ]
  },
  {
   "cell_type": "markdown",
   "id": "db899fcd-d01d-4ea0-b5c2-7b7b2012e155",
   "metadata": {},
   "source": [
    "### Carry out PCA to reduce the dimensions of the dataset"
   ]
  },
  {
   "cell_type": "code",
   "execution_count": null,
   "id": "3002bdf4-2ee1-4311-9e23-12b9547aa438",
   "metadata": {},
   "outputs": [],
   "source": [
    "sc.pp.pca(adata, svd_solver='arpack')"
   ]
  },
  {
   "cell_type": "code",
   "execution_count": null,
   "id": "54bd8fa2-d258-4a1a-867f-482d21d1ee4d",
   "metadata": {},
   "outputs": [],
   "source": [
    "sc.pl.pca(adata, color='NDRG1')"
   ]
  },
  {
   "cell_type": "code",
   "execution_count": null,
   "id": "7e2cb0fb-d79b-4330-9251-e221dd795001",
   "metadata": {},
   "outputs": [],
   "source": [
    "sc.pl.pca(adata, color='COL1A1')"
   ]
  },
  {
   "cell_type": "markdown",
   "id": "96e08fdc-2fd5-4d4b-baec-759b4b218605",
   "metadata": {},
   "source": [
    "### Compute the neighborhood graph"
   ]
  },
  {
   "cell_type": "code",
   "execution_count": null,
   "id": "e8c403bc-9248-4e66-b085-31080100f1d2",
   "metadata": {},
   "outputs": [],
   "source": [
    "sc.pp.neighbors(adata, n_neighbors=100)"
   ]
  },
  {
   "cell_type": "code",
   "execution_count": null,
   "id": "de070786-a265-4e27-b6db-aa9199fc033c",
   "metadata": {},
   "outputs": [],
   "source": [
    "adata"
   ]
  },
  {
   "cell_type": "markdown",
   "id": "83a4ebe7-6a51-49be-99d8-80f085685be7",
   "metadata": {},
   "source": [
    "### Compute the UMAP"
   ]
  },
  {
   "cell_type": "code",
   "execution_count": null,
   "id": "4d157554-1fa3-4cf9-99d6-2028906f7a26",
   "metadata": {},
   "outputs": [],
   "source": [
    "sc.tl.umap(adata)"
   ]
  },
  {
   "cell_type": "markdown",
   "id": "be55f195-3b48-4dc2-a42e-f47522ce8300",
   "metadata": {},
   "source": [
    "### Cluster the UMAP"
   ]
  },
  {
   "cell_type": "markdown",
   "id": "75dd4e7d-6f54-480e-b1a0-70ed3539eacc",
   "metadata": {},
   "source": [
    "#### We can use any clustering algorithms here. Two of the most popular are Leiden and Louvain."
   ]
  },
  {
   "cell_type": "code",
   "execution_count": null,
   "id": "f4fedc80-e5f4-4c91-b3d3-bb636e74808d",
   "metadata": {},
   "outputs": [],
   "source": [
    "sc.tl.louvain(adata)"
   ]
  },
  {
   "cell_type": "code",
   "execution_count": null,
   "id": "3c9b0aff-04b2-46f3-ad1d-8f8da8d1ceff",
   "metadata": {},
   "outputs": [],
   "source": [
    "sc.tl.leiden(adata)"
   ]
  },
  {
   "cell_type": "code",
   "execution_count": null,
   "id": "60f218ea-34d5-45e8-8852-a593c7db895d",
   "metadata": {},
   "outputs": [],
   "source": [
    "sc.pl.umap(\n",
    "    adata,\n",
    "    color=[\n",
    "        \"total_counts\",\n",
    "        \"n_genes_by_counts\",\n",
    "        \"leiden\",\n",
    "        \"louvain\",\n",
    "    ],\n",
    "    wspace=0.4,\n",
    ")"
   ]
  },
  {
   "cell_type": "markdown",
   "id": "33b3497b-4736-4d23-a05a-e8b03d7a36e2",
   "metadata": {},
   "source": [
    "## Plot the UMAP and paint each cell by the cell-type"
   ]
  },
  {
   "cell_type": "code",
   "execution_count": null,
   "id": "1d0b909a-fc08-44c9-81aa-901f92c2c03b",
   "metadata": {},
   "outputs": [],
   "source": [
    "fig, ax = plt.subplots(1, 1, figsize=(5, 5))\n",
    "dotsize = 10\n",
    "\n",
    "sc.pl.umap(\n",
    "    adata,\n",
    "    color=[\n",
    "        'cell_type'\n",
    "    ], size=dotsize,\n",
    "    wspace=0.4, ax=ax, palette='tab20'\n",
    ")\n"
   ]
  },
  {
   "cell_type": "markdown",
   "id": "4b07924b-9b02-4ca2-9371-90bc8ba00495",
   "metadata": {},
   "source": [
    "## Plot T-cells in the UMAP"
   ]
  },
  {
   "cell_type": "code",
   "execution_count": null,
   "id": "f9affe10-b39e-4bc8-9fec-5fcf658f2990",
   "metadata": {
    "tags": []
   },
   "outputs": [],
   "source": [
    "fig, ax = plt.subplots(1, 1, figsize=(5, 5))\n",
    "dotsize = 10\n",
    "ax = sc.pl.umap(adata, color=['cell_type'], groups=[\"T CD4 memory\", \"T CD4 naive\", \"T CD8 memory\", \"T CD8 naive\"], show=False, size=dotsize, ax=ax)\n",
    "\n",
    "# We can change the 'NA' in the legend that represents all cells outside of the\n",
    "# specified groups\n",
    "legend_texts=ax.get_legend().get_texts()\n",
    "# Find legend object whose text is \"NA\" and change it\n",
    "for legend_text in legend_texts:\n",
    "    if legend_text.get_text()==\"NA\":\n",
    "        legend_text.set_text('other cell types')"
   ]
  },
  {
   "cell_type": "markdown",
   "id": "6b61463b-2c52-40f5-bf32-50c8354da2bf",
   "metadata": {},
   "source": [
    "## Plot gene expressions of tumor cells"
   ]
  },
  {
   "cell_type": "code",
   "execution_count": null,
   "id": "38ce9446-290d-4d53-a77e-950e47605d30",
   "metadata": {
    "tags": []
   },
   "outputs": [],
   "source": [
    "fig, ax = plt.subplots(1, 1, figsize=(5, 5))\n",
    "dot_size=10\n",
    "# Plot all cells as background\n",
    "ax=sc.pl.umap(adata, show=False,s=dot_size, ax=ax)\n",
    "\n",
    "# Plot ontop expression of a single cell group by subsetting adata\n",
    "sc.pl.umap(adata[adata.obs.cell_type=='tumor',:],color='NDRG1', ax=ax, s=dot_size)"
   ]
  },
  {
   "cell_type": "markdown",
   "id": "d767b5a5-f5dc-485f-84ef-bde4921ce15a",
   "metadata": {},
   "source": [
    "## Plot the leiden clusters of two FOVs"
   ]
  },
  {
   "cell_type": "code",
   "execution_count": null,
   "id": "f4ae0cc5-f45c-4741-9df5-cd6c7a93b22b",
   "metadata": {
    "tags": []
   },
   "outputs": [],
   "source": [
    "sq.pl.spatial_segment(\n",
    "    adata,\n",
    "    color='leiden',\n",
    "    library_key=\"fov\",\n",
    "    library_id = selected_fovs,\n",
    "    seg_cell_id=\"cell_ID\", \n",
    "    seg_outline = True,\n",
    "    # palette='tab20',\n",
    "    img=False,\n",
    "    colorbar=False,\n",
    "    hspace=0, wspace=0,\n",
    "    ncols=3,\n",
    "    legend_loc=None,\n",
    "    outline=False,\n",
    "    axis_label = None,\n",
    "    figsize=(7,4.5),\n",
    "    # library_first=True,\n",
    "    frameon=False,\n",
    "    title='',\n",
    ")"
   ]
  },
  {
   "cell_type": "code",
   "execution_count": null,
   "id": "d5a055d4-c212-4bdd-acc0-38bc663f44a2",
   "metadata": {
    "tags": []
   },
   "outputs": [],
   "source": [
    "sq.pl.spatial_segment(\n",
    "    adata,\n",
    "    color='louvain',\n",
    "    library_key=\"fov\",\n",
    "    library_id = selected_fovs,\n",
    "    seg_cell_id=\"cell_ID\", \n",
    "    seg_outline = True,\n",
    "    # palette='tab20',\n",
    "    img=False,\n",
    "    colorbar=False,\n",
    "    hspace=0.0001, wspace=0.0001,\n",
    "    ncols=3,\n",
    "    legend_loc=None,\n",
    "    outline=False,\n",
    "    axis_label = None,\n",
    "    figsize=(7,4.5),\n",
    "    # library_first=True,\n",
    "    frameon=False,\n",
    "    title='',\n",
    ")"
   ]
  },
  {
   "cell_type": "code",
   "execution_count": null,
   "id": "40512863-8c85-4bc2-bf24-7e2047c9c53d",
   "metadata": {},
   "outputs": [],
   "source": [
    "fig, ax = plt.subplots(1, 3, figsize=(15, 7))\n",
    "\n",
    "for _ax in ax:\n",
    "    _ax.set_facecolor('white')\n",
    "\n",
    "selected_fov = 19\n",
    "    # [17, 18, 19, 13, 14, 15]\n",
    "    \n",
    "sq.pl.spatial_segment(\n",
    "    adata,\n",
    "    shape=\"hex\",\n",
    "    color=\"leiden\",\n",
    "    library_key=\"fov\",\n",
    "    library_id=f\"{selected_fov}\",\n",
    "    seg_cell_id=\"cell_ID\",\n",
    "    img=False,\n",
    "    size=60,\n",
    "    ax=ax[0],\n",
    ")\n",
    "\n",
    "sq.pl.spatial_segment(\n",
    "    adata,\n",
    "    shape=\"hex\",\n",
    "    color=\"louvain\",\n",
    "    library_key=\"fov\",\n",
    "    library_id=f\"{selected_fov}\",\n",
    "    seg_cell_id=\"cell_ID\",\n",
    "    img=False,\n",
    "    size=60,\n",
    "    ax=ax[1],\n",
    ")\n",
    "\n",
    "sq.pl.spatial_segment(\n",
    "    adata,\n",
    "    shape=\"hex\",\n",
    "    color=\"cell_type\",\n",
    "    library_key=\"fov\",\n",
    "    library_id=f\"{selected_fov}\",\n",
    "    seg_cell_id=\"cell_ID\",\n",
    "    img=False,\n",
    "    size=60,\n",
    "    ax=ax[2],\n",
    ")\n",
    "\n",
    "plt.tight_layout()"
   ]
  },
  {
   "cell_type": "markdown",
   "id": "ec409d51-d94e-402c-a6a7-bf904f67d371",
   "metadata": {},
   "source": [
    "## Plot the spatial map of the PanCK staining intensity"
   ]
  },
  {
   "cell_type": "code",
   "execution_count": null,
   "id": "eea4a3cf-2d38-4e2d-a791-f4715ce2929e",
   "metadata": {},
   "outputs": [],
   "source": [
    "sq.pl.spatial_segment(\n",
    "    adata,\n",
    "    color='Max.PanCK',\n",
    "    library_key=\"fov\",\n",
    "    library_id = selected_fovs,\n",
    "    seg_cell_id=\"cell_ID\", \n",
    "    seg_outline = True,\n",
    "    img=False,\n",
    "    colorbar=False,\n",
    "    hspace=0, wspace=0,\n",
    "    ncols=3,\n",
    "    legend_loc=None,\n",
    "    outline=False,\n",
    "    axis_label = None,\n",
    "    figsize=(7,4.5),\n",
    "    frameon=False,\n",
    "    title='',\n",
    ")"
   ]
  },
  {
   "cell_type": "markdown",
   "id": "af42d1df-8b79-4019-9e68-a6ab845ba277",
   "metadata": {},
   "source": [
    "## Spatial Connectivity Analysis"
   ]
  },
  {
   "cell_type": "code",
   "execution_count": null,
   "id": "02e3d372-7e42-4cf1-a523-9b91fe860c96",
   "metadata": {
    "tags": []
   },
   "outputs": [],
   "source": [
    "adata"
   ]
  },
  {
   "cell_type": "code",
   "execution_count": null,
   "id": "ca0a2188-f9b3-4c74-a2d8-975d0cc1dbeb",
   "metadata": {},
   "outputs": [],
   "source": [
    "fig, ax = plt.subplots(1, 2, figsize=(15, 15))\n",
    "sq.gr.spatial_neighbors(\n",
    "    adata,\n",
    "    n_neighs=15,\n",
    "    coord_type=\"generic\",\n",
    ")\n",
    "_, idx = adata.obsp[\"spatial_connectivities\"][1111, :].nonzero()\n",
    "idx = np.append(idx, 1111)\n",
    "sq.pl.spatial_scatter(\n",
    "    adata[idx, :],\n",
    "    library_id=\"16\",\n",
    "    color=\"cell_type\",\n",
    "    connectivity_key=\"spatial_connectivities\",\n",
    "    size=3,\n",
    "    edges_width=1,\n",
    "    edges_color=\"black\",\n",
    "    img=False,\n",
    "    title=\"K-nearest neighbors\",\n",
    "    ax=ax[0],\n",
    ")\n",
    "\n",
    "sq.gr.spatial_neighbors(\n",
    "    adata,\n",
    "    n_neighs=15,\n",
    "    coord_type=\"generic\",\n",
    "    delaunay=True,\n",
    ")\n",
    "_, idx = adata.obsp[\"spatial_connectivities\"][1111, :].nonzero()\n",
    "idx = np.append(idx, 1111)\n",
    "sq.pl.spatial_scatter(\n",
    "    adata[idx, :],\n",
    "    library_id=\"16\",\n",
    "    color=\"cell_type\",\n",
    "    connectivity_key=\"spatial_connectivities\",\n",
    "    size=3,\n",
    "    edges_width=1,\n",
    "    edges_color=\"black\",\n",
    "    img=False,\n",
    "    title=\"Delaunay triangulation\",\n",
    "    ax=ax[1],\n",
    ")\n",
    "\n",
    "plt.tight_layout()"
   ]
  },
  {
   "cell_type": "raw",
   "id": "cb4bdf8b-1cf3-4905-a551-f376719a9b27",
   "metadata": {},
   "source": [
    "sq.gr.spatial_neighbors(\n",
    "    adata, coord_type=\"generic\", delaunay=True\n",
    ")"
   ]
  },
  {
   "cell_type": "code",
   "execution_count": null,
   "id": "425e6db5-79a8-4e72-9953-313a29100e4a",
   "metadata": {},
   "outputs": [],
   "source": [
    "sq.gr.centrality_scores(adata, cluster_key=\"cell_type\")"
   ]
  },
  {
   "cell_type": "markdown",
   "id": "51f19142-13ed-4515-9ee6-6fb808daa30b",
   "metadata": {},
   "source": [
    "- closeness centrality - measure of how close the group is to other nodes.\n",
    "- clustering coefficient - measure of the degree to which nodes cluster together.\n",
    "- degree centrality - fraction of non-group members connected to group members."
   ]
  },
  {
   "cell_type": "code",
   "execution_count": null,
   "id": "ba3bf64d-072d-486b-9561-545c6d35ca04",
   "metadata": {},
   "outputs": [],
   "source": [
    "sq.pl.centrality_scores(adata, cluster_key=\"cell_type\", figsize=(15, 6))"
   ]
  },
  {
   "cell_type": "markdown",
   "id": "76f1236c-da40-4d88-b1e3-7d20c1ab2b57",
   "metadata": {},
   "source": [
    "## Spatial Co-Occurance"
   ]
  },
  {
   "cell_type": "code",
   "execution_count": null,
   "id": "a4d4bc17-a7fc-41be-afb7-2b28323f5a6b",
   "metadata": {},
   "outputs": [],
   "source": [
    "adataset = adata[adata.obs.fov.isin([\"17\", \"18\"])].copy()"
   ]
  },
  {
   "cell_type": "code",
   "execution_count": null,
   "id": "cf3bd0fc-98e0-46c4-a25e-77bbc867c3a1",
   "metadata": {
    "tags": []
   },
   "outputs": [],
   "source": [
    "fig, ax = plt.subplots(1, 1, figsize=(14, 5))\n",
    "\n",
    "# Create the scatter plot without grid lines\n",
    "ax = sc.pl.scatter(\n",
    "    adataset,\n",
    "    x='CenterX_global_px',\n",
    "    y='CenterY_global_px',\n",
    "    color='cell_type',\n",
    "    show=False, \n",
    "    size=15,\n",
    "    frameon=False, \n",
    "    ax=ax\n",
    "    # legend_loc='none'\n",
    ")\n",
    "\n",
    "# Turn off x and y axes\n",
    "ax.set_xticks([])\n",
    "ax.set_yticks([])\n",
    "\n",
    "plt.tight_layout()"
   ]
  },
  {
   "cell_type": "code",
   "execution_count": null,
   "id": "92fc5a7e-7f0c-4e06-a80f-28eeb8dc3c35",
   "metadata": {},
   "outputs": [],
   "source": [
    "sq.gr.co_occurrence(\n",
    "    adataset,\n",
    "    cluster_key=\"cell_type\",\n",
    ")"
   ]
  },
  {
   "cell_type": "code",
   "execution_count": null,
   "id": "79c9fd87-a874-43e2-91ee-1981dd0e956a",
   "metadata": {},
   "outputs": [],
   "source": [
    "sq.pl.co_occurrence(\n",
    "    adataset,\n",
    "    cluster_key=\"cell_type\",\n",
    "    clusters='tumor', figsize=(15, 7), \n",
    ")"
   ]
  },
  {
   "cell_type": "markdown",
   "id": "7142e23a-5cc8-4508-ab67-656d9f6b93ed",
   "metadata": {},
   "source": [
    "## Neighborhood Enrichment Analysis"
   ]
  },
  {
   "cell_type": "code",
   "execution_count": null,
   "id": "f7ec8937-4af3-4c6c-8693-623308741064",
   "metadata": {},
   "outputs": [],
   "source": [
    "sq.gr.nhood_enrichment(adata, cluster_key=\"cell_type\")"
   ]
  },
  {
   "cell_type": "code",
   "execution_count": null,
   "id": "04eed828-543a-4f00-a9a9-27b2ab686cf3",
   "metadata": {},
   "outputs": [],
   "source": [
    "sq.gr.nhood_enrichment(adataset, cluster_key=\"cell_type\")"
   ]
  },
  {
   "cell_type": "code",
   "execution_count": null,
   "id": "78000176-8ef7-4382-a9ce-5f620e068acc",
   "metadata": {},
   "outputs": [],
   "source": [
    "fig, ax = plt.subplots(1, 2, figsize=(22, 22))\n",
    "sq.pl.nhood_enrichment(\n",
    "    adata,\n",
    "    cluster_key=\"cell_type\",\n",
    "    figsize=(3, 3), vmin=12, vmax=-12, vcenter=0,\n",
    "    ax=ax[0],\n",
    "    title=\"Neighborhood enrichment adata\",\n",
    ")\n",
    "sq.pl.nhood_enrichment(\n",
    "    adataset,\n",
    "    cluster_key=\"cell_type\",\n",
    "    figsize=(3, 3), vmin=12, vmax=-12, vcenter=0,\n",
    "    ax=ax[1],\n",
    "    title=\"Neighborhood enrichment adataset\", cmap='RdBu_r'\n",
    ")\n",
    "\n",
    "plt.tight_layout()"
   ]
  },
  {
   "cell_type": "markdown",
   "id": "556d53f1-66dd-46e4-92fd-34c5c639928e",
   "metadata": {
    "tags": []
   },
   "source": [
    "## Spatial statistics"
   ]
  },
  {
   "cell_type": "markdown",
   "id": "ad955fd8-5353-42c6-8616-3b0cf9e89208",
   "metadata": {},
   "source": [
    "### Ripley's L"
   ]
  },
  {
   "cell_type": "markdown",
   "id": "7dd4d3b8-e64c-4c4a-8425-d7001204b75d",
   "metadata": {},
   "source": [
    "https://en.wikipedia.org/wiki/Spatial_descriptive_statistics"
   ]
  },
  {
   "cell_type": "code",
   "execution_count": null,
   "id": "ed66fceb-5ee5-4c3d-858a-90a082485f4e",
   "metadata": {},
   "outputs": [],
   "source": [
    "mode = \"L\"\n",
    "fig, ax = plt.subplots(1, 2, figsize=(20, 6))\n",
    "\n",
    "sq.gr.ripley(adataset, cluster_key=\"cell_type\", mode=mode)\n",
    "sq.pl.ripley(\n",
    "    adataset,\n",
    "    cluster_key=\"cell_type\",\n",
    "    mode=mode,\n",
    "    ax=ax[0],\n",
    ")\n",
    "\n",
    "sq.pl.spatial_segment(\n",
    "    adataset,\n",
    "    shape=\"hex\",\n",
    "    color=\"cell_type\",\n",
    "    library_id=[\"17\"],\n",
    "    library_key=\"fov\",\n",
    "    seg_cell_id=\"cell_ID\",\n",
    "    img=False,\n",
    "    size=60,\n",
    "    ax=ax[1],\n",
    ")\n",
    "\n",
    "plt.tight_layout()"
   ]
  },
  {
   "cell_type": "markdown",
   "id": "2628c422-6d48-443c-8bc3-0e06adadb938",
   "metadata": {},
   "source": [
    "### Spatial Correlation Analysis of genes"
   ]
  },
  {
   "cell_type": "code",
   "execution_count": null,
   "id": "2e3418f6-cb4d-41cf-b1d0-ef5044f8f340",
   "metadata": {},
   "outputs": [],
   "source": [
    "sq.gr.spatial_neighbors(adataset, coord_type=\"generic\", delaunay=True)\n",
    "sq.gr.spatial_autocorr(\n",
    "    adataset,\n",
    "    mode=\"moran\",\n",
    "    n_perms=100,\n",
    "    n_jobs=1,\n",
    ")\n",
    "adataset.uns[\"moranI\"].head(10)"
   ]
  },
  {
   "cell_type": "code",
   "execution_count": null,
   "id": "14c69c4c-b2a5-4009-89be-4ef016dfc66c",
   "metadata": {},
   "outputs": [],
   "source": [
    "sq.gr.spatial_neighbors(adataset, coord_type=\"generic\", delaunay=True)\n",
    "sq.gr.spatial_autocorr(\n",
    "    adataset,\n",
    "    mode=\"moran\",\n",
    "    n_perms=100,\n",
    "    n_jobs=1,\n",
    ")\n",
    "adataset.uns[\"moranI\"].head(10)"
   ]
  },
  {
   "cell_type": "code",
   "execution_count": null,
   "id": "59199d84-4603-480f-aafa-1a3542cdcc5b",
   "metadata": {},
   "outputs": [],
   "source": [
    "adataset.uns[\"moranI\"].index[:10]"
   ]
  },
  {
   "cell_type": "code",
   "execution_count": null,
   "id": "6eecf8e4-5f17-40da-b5c2-951e18a68dce",
   "metadata": {},
   "outputs": [],
   "source": [
    "sq.pl.spatial_segment(\n",
    "    adataset,\n",
    "    shape=\"hex\",\n",
    "     color=[\"NDRG1\", \"HSP90AB1\", \"SOX4\"],\n",
    "    library_id=[\"17\"],\n",
    "    library_key=\"fov\",\n",
    "    seg_cell_id=\"cell_ID\", \n",
    "    palette=None,\n",
    "    legend_loc=None,\n",
    "    img=False,\n",
    "    ncols=4,\n",
    "    size=40,)\n",
    "\n",
    "plt.tight_layout()"
   ]
  },
  {
   "cell_type": "code",
   "execution_count": null,
   "id": "a36db2fe-f302-4d25-bc16-104fa9b66134",
   "metadata": {},
   "outputs": [],
   "source": [
    "sq.pl.spatial_segment(\n",
    "    adataset,\n",
    "    shape=\"hex\",\n",
    "    color=[\"NDRG1\"],\n",
    "    library_id=['17','18'],\n",
    "    library_key=\"fov\",\n",
    "    seg_cell_id=\"cell_ID\", \n",
    "    palette=None,\n",
    "    legend_loc=None,\n",
    "    img=False,\n",
    "    ncols=2,\n",
    "    size=40, wspace=0, hspace=0.3,\n",
    "    figsize=(12, 8))\n",
    "\n",
    "plt.tight_layout()"
   ]
  },
  {
   "cell_type": "code",
   "execution_count": null,
   "id": "6ce4424a-acc1-4b93-a274-3a05d67f2dfb",
   "metadata": {},
   "outputs": [],
   "source": [
    "sq.pl.spatial_segment(\n",
    "    adataset,\n",
    "    shape=\"hex\",\n",
    "    color=[\"HSP90AB1\"],\n",
    "    library_id=['17','18'],\n",
    "    library_key=\"fov\",\n",
    "    seg_cell_id=\"cell_ID\", \n",
    "    palette=None,\n",
    "    legend_loc=None,\n",
    "    img=False,\n",
    "    ncols=2,\n",
    "    size=40, wspace=0, hspace=0.3,\n",
    "    figsize=(12, 8))\n",
    "\n",
    "plt.tight_layout()"
   ]
  },
  {
   "cell_type": "code",
   "execution_count": null,
   "id": "b4b02b0f-caba-48af-88c9-6f0350908675",
   "metadata": {
    "tags": []
   },
   "outputs": [],
   "source": [
    "sq.pl.spatial_segment(\n",
    "    adataset,\n",
    "    shape=\"hex\",\n",
    "    color=\"cell_type\",\n",
    "    library_id=[\"18\"],\n",
    "    library_key=\"fov\",\n",
    "    seg_cell_id=\"cell_ID\",\n",
    "    img=False, figsize=(8, 3)\n",
    "    # size=60,\n",
    ")"
   ]
  },
  {
   "cell_type": "code",
   "execution_count": null,
   "id": "1a716124-4e38-4119-a4f7-abbc011e8296",
   "metadata": {},
   "outputs": [],
   "source": [
    "sq.pl.spatial_segment(\n",
    "    adataset,\n",
    "    shape=\"hex\",\n",
    "    color=['NDRG1', 'COL1A1', 'COL1A2', 'COL3A1', 'SOX4', 'SLPI', 'MMP1'],\n",
    "    library_id=[\"18\"],\n",
    "    library_key=\"fov\",\n",
    "    seg_cell_id=\"cell_ID\", \n",
    "    palette=None,\n",
    "    legend_loc=None,\n",
    "    img=False,\n",
    "    ncols=3,\n",
    "    size=40, wspace=0, hspace=0.3,\n",
    "    figsize=(12, 8))\n",
    "\n",
    "plt.tight_layout()"
   ]
  },
  {
   "cell_type": "code",
   "execution_count": null,
   "id": "2e4f0f93-6d1c-42ae-a104-f4413db1810f",
   "metadata": {},
   "outputs": [],
   "source": []
  }
 ],
 "metadata": {
  "kernelspec": {
   "display_name": "Python 3 (ipykernel)",
   "language": "python",
   "name": "python3"
  },
  "language_info": {
   "codemirror_mode": {
    "name": "ipython",
    "version": 3
   },
   "file_extension": ".py",
   "mimetype": "text/x-python",
   "name": "python",
   "nbconvert_exporter": "python",
   "pygments_lexer": "ipython3",
   "version": "3.7.16"
  }
 },
 "nbformat": 4,
 "nbformat_minor": 5
}
